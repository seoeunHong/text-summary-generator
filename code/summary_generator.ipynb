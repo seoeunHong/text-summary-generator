{
 "cells": [
  {
   "cell_type": "markdown",
   "id": "069a6711-89f8-4920-abe0-98e16cfe05b4",
   "metadata": {},
   "source": [
    "# Import Dependencies"
   ]
  },
  {
   "cell_type": "code",
   "execution_count": 48,
   "id": "8fc5f4d9-5ecf-4512-be35-796960bebe5a",
   "metadata": {},
   "outputs": [],
   "source": [
    "import numpy as np\n",
    "import pandas as pd"
   ]
  },
  {
   "cell_type": "markdown",
   "id": "c550a477-c21a-4bc8-b43c-388227ad0eb9",
   "metadata": {},
   "source": [
    "# Convert Multiple Excel sheets to CSV"
   ]
  },
  {
   "cell_type": "code",
   "execution_count": 49,
   "id": "05149176-9d15-47aa-8fe9-32635cdc609d",
   "metadata": {},
   "outputs": [],
   "source": [
    "excel_file = '../data/Moonshot Tracker Results - Auto.xlsx'\n",
    "all_sheets = pd.read_excel(excel_file, sheet_name=None)\n",
    "sheets = all_sheets.keys()\n",
    "\n",
    "for sheet_name in sheets:\n",
    "    sheet = pd.read_excel(excel_file, sheet_name=sheet_name)\n",
    "    sheet.to_csv(f\"../data/{sheet_name}.csv\", index=False)"
   ]
  },
  {
   "cell_type": "code",
   "execution_count": 138,
   "id": "6d8b664d-7df3-4acf-9288-ef17340db263",
   "metadata": {},
   "outputs": [],
   "source": [
    "projects_raw = pd.read_csv(\"../data/Projects.csv\")\n",
    "outputs = pd.read_csv(\"../data/Outputs.csv\")"
   ]
  },
  {
   "cell_type": "markdown",
   "id": "98b7e3c4-5628-4b19-95bd-292c47bc4223",
   "metadata": {},
   "source": [
    "# Data Relationship"
   ]
  },
  {
   "cell_type": "markdown",
   "id": "f0d8b883-ffb5-4d0f-84cf-c72dcd2d5c2b",
   "metadata": {},
   "source": [
    "![image info](../data/data_relationship.jpeg)"
   ]
  },
  {
   "cell_type": "code",
   "execution_count": 139,
   "id": "d0f5933b-5571-4360-9248-37e2b7d7756b",
   "metadata": {},
   "outputs": [
    {
     "data": {
      "text/plain": [
       "Index(['Project ID', 'Project Title', 'Budget', 'Country', 'Country Code',\n",
       "       'Link', 'Donors', 'VF or Non-VF', 'Output Count',\n",
       "       'Direct Beneficiaries', 'GHG Emissions Reduction', 'description',\n",
       "       'sdgs', 'solution', 'Gender Marker'],\n",
       "      dtype='object')"
      ]
     },
     "execution_count": 139,
     "metadata": {},
     "output_type": "execute_result"
    }
   ],
   "source": [
    "projects_raw.columns"
   ]
  },
  {
   "cell_type": "code",
   "execution_count": 140,
   "id": "3388402a-a19c-4f55-8a62-d3a3fe912eb9",
   "metadata": {},
   "outputs": [],
   "source": [
    "project_target_column  = ['Project ID', 'Project Title', 'Budget', 'Donors', 'VF or Non-VF', 'Output Count',\n",
    "       'Direct Beneficiaries', 'description']"
   ]
  },
  {
   "cell_type": "code",
   "execution_count": 141,
   "id": "7ab693bf-e0ac-4ba1-ac59-38a06a4bd1e7",
   "metadata": {},
   "outputs": [],
   "source": [
    "projects_raw = projects_raw[project_target_column]"
   ]
  },
  {
   "cell_type": "code",
   "execution_count": 142,
   "id": "f74ceea7-62c5-40e6-97ca-9b2e4de4cfa7",
   "metadata": {
    "scrolled": true
   },
   "outputs": [
    {
     "data": {
      "text/plain": [
       "Index(['Project ID', 'Title', 'Link', 'Budget', 'Beneficiary Category',\n",
       "       'Indicator', 'Baseline', 'Target', 'Notes', 'Donors',\n",
       "       'Gender (% female)', 'VF or Non-VF', 'Tag', 'SEH Taxonomy',\n",
       "       'RISE Taxonomy', 'Flagship', 'Technology', 'Output ID', 'Country Code',\n",
       "       'Category', 'name 2', 'm49', 'continent-region', 'sub-region',\n",
       "       'sids-region', 'un-member', 'undp-sids', 'un-region', 'Country Name',\n",
       "       'Region', 'Economy', 'LDC', 'SIDS', 'LLDC', 'HDI', 'Status',\n",
       "       'Direct Conversion Factor', 'Direct Beneficiaries', 'Output Category',\n",
       "       'Beneficiary Category Pre', 'Description'],\n",
       "      dtype='object')"
      ]
     },
     "execution_count": 142,
     "metadata": {},
     "output_type": "execute_result"
    }
   ],
   "source": [
    "outputs.columns"
   ]
  },
  {
   "cell_type": "code",
   "execution_count": 158,
   "id": "2d1086e3-46b6-47f8-9c47-d810b86cede8",
   "metadata": {},
   "outputs": [],
   "source": [
    "outputs_target_column  = ['Project ID', 'Beneficiary Category','Gender (% female)', 'continent-region', 'Country Name',\n",
    "       'Region', 'Direct Beneficiaries', 'Output Category', 'Description']"
   ]
  },
  {
   "cell_type": "code",
   "execution_count": 159,
   "id": "9ae11f23-23ed-4d97-835a-76f5b608c7d0",
   "metadata": {},
   "outputs": [],
   "source": [
    "outputs = outputs[outputs_target_column]"
   ]
  },
  {
   "cell_type": "markdown",
   "id": "49e067d6-843a-4c05-bf56-4cd3643d6ffd",
   "metadata": {},
   "source": [
    "# Functions for Extracting Information\n",
    "Our Goal: Generate text summaries of the UNDP portfolio for each country\n",
    "\n",
    "Approach: \n",
    "1. Assign 'continent-region', 'Country Name', and 'Region' to the project dataframe.\n",
    "2. Create a function to get each 'project' for the specified 'continent-region', 'Country Name', or 'Region'.\n",
    "3. Create a function to get the 'output's of each 'project'.\n",
    "4. Create a function to call the OpenAI API and generate a summary for the UNDP portfolio for each country using a suitable prompt."
   ]
  },
  {
   "cell_type": "markdown",
   "id": "91e27574-e7f9-4eec-8014-4c58f71592a7",
   "metadata": {},
   "source": [
    "## 1. Assign 'continent-region', 'Country Name', and 'Region' to the project dataframe"
   ]
  },
  {
   "cell_type": "code",
   "execution_count": 145,
   "id": "a5ed99e7-40fb-42fe-af9e-f4be1f76fdc8",
   "metadata": {},
   "outputs": [],
   "source": [
    "output_country = outputs[['Project ID', 'continent-region', 'Country Name','Region']]"
   ]
  },
  {
   "cell_type": "code",
   "execution_count": 146,
   "id": "a6ab560b-a576-4452-94ab-c263eacaa05e",
   "metadata": {},
   "outputs": [],
   "source": [
    "output_country = output_country.drop_duplicates().reset_index(drop=True)"
   ]
  },
  {
   "cell_type": "code",
   "execution_count": 147,
   "id": "e985309c-16af-465e-b9f0-89328bcc0812",
   "metadata": {},
   "outputs": [],
   "source": [
    "projects = pd.merge(projects_raw, output_country, on = 'Project ID')"
   ]
  },
  {
   "cell_type": "code",
   "execution_count": 148,
   "id": "bb4fc3b7-d338-40a5-887e-14430ae1122a",
   "metadata": {},
   "outputs": [],
   "source": [
    "projects.rename(columns = {'continent-region':'continent', 'Country Name': 'country','Region': 'undp_region'}, inplace = True)"
   ]
  },
  {
   "cell_type": "code",
   "execution_count": 149,
   "id": "e729f911-3e59-4d27-9c1b-366f6cb42d6a",
   "metadata": {},
   "outputs": [
    {
     "data": {
      "text/html": [
       "<div>\n",
       "<style scoped>\n",
       "    .dataframe tbody tr th:only-of-type {\n",
       "        vertical-align: middle;\n",
       "    }\n",
       "\n",
       "    .dataframe tbody tr th {\n",
       "        vertical-align: top;\n",
       "    }\n",
       "\n",
       "    .dataframe thead th {\n",
       "        text-align: right;\n",
       "    }\n",
       "</style>\n",
       "<table border=\"1\" class=\"dataframe\">\n",
       "  <thead>\n",
       "    <tr style=\"text-align: right;\">\n",
       "      <th></th>\n",
       "      <th>Project ID</th>\n",
       "      <th>Project Title</th>\n",
       "      <th>Budget</th>\n",
       "      <th>Donors</th>\n",
       "      <th>VF or Non-VF</th>\n",
       "      <th>Output Count</th>\n",
       "      <th>Direct Beneficiaries</th>\n",
       "      <th>description</th>\n",
       "      <th>continent</th>\n",
       "      <th>country</th>\n",
       "      <th>undp_region</th>\n",
       "    </tr>\n",
       "  </thead>\n",
       "  <tbody>\n",
       "    <tr>\n",
       "      <th>0</th>\n",
       "      <td>117913</td>\n",
       "      <td>Résilience des communautés et des écosystèmes</td>\n",
       "      <td>3459600.0</td>\n",
       "      <td>['UNITED NATIONS DEVELOPMENT PRO']</td>\n",
       "      <td>Non-VF</td>\n",
       "      <td>3</td>\n",
       "      <td>3697.5</td>\n",
       "      <td>Il s’agit de la promotion du développement Loc...</td>\n",
       "      <td>Africa</td>\n",
       "      <td>Togo</td>\n",
       "      <td>RBA</td>\n",
       "    </tr>\n",
       "    <tr>\n",
       "      <th>1</th>\n",
       "      <td>134793</td>\n",
       "      <td>Accès aux énergies renouvelables en milieu rur...</td>\n",
       "      <td>1431552.0</td>\n",
       "      <td>['UNITED NATIONS DEVELOPMENT PRO']</td>\n",
       "      <td>Non-VF</td>\n",
       "      <td>3</td>\n",
       "      <td>31525.0</td>\n",
       "      <td>Accélération de l’accès aux énergies renouvela...</td>\n",
       "      <td>Africa</td>\n",
       "      <td>Togo</td>\n",
       "      <td>RBA</td>\n",
       "    </tr>\n",
       "    <tr>\n",
       "      <th>2</th>\n",
       "      <td>91204</td>\n",
       "      <td>Apoyo a la Modernización de La Gestión Ambiental</td>\n",
       "      <td>4202031.0</td>\n",
       "      <td>UNDP (TRAC 4000) CLIMATE PROMISE (28708) - NDC...</td>\n",
       "      <td>Non-VF</td>\n",
       "      <td>1</td>\n",
       "      <td>0.0</td>\n",
       "      <td>NaN</td>\n",
       "      <td>Americas</td>\n",
       "      <td>Panama</td>\n",
       "      <td>RBLAC</td>\n",
       "    </tr>\n",
       "    <tr>\n",
       "      <th>3</th>\n",
       "      <td>133871</td>\n",
       "      <td>Beyond Recovery COVID19 Energy</td>\n",
       "      <td>473000.0</td>\n",
       "      <td>['UNITED NATIONS DEVELOPMENT PRO']</td>\n",
       "      <td>Non-VF</td>\n",
       "      <td>2</td>\n",
       "      <td>17500.0</td>\n",
       "      <td>Acceso universal, a través de la implementació...</td>\n",
       "      <td>Americas</td>\n",
       "      <td>Panama</td>\n",
       "      <td>RBLAC</td>\n",
       "    </tr>\n",
       "    <tr>\n",
       "      <th>4</th>\n",
       "      <td>6613</td>\n",
       "      <td>Africa Mini-grids Program</td>\n",
       "      <td>1363947.0</td>\n",
       "      <td>NaN</td>\n",
       "      <td>VF</td>\n",
       "      <td>3</td>\n",
       "      <td>4936.0</td>\n",
       "      <td>NaN</td>\n",
       "      <td>Africa</td>\n",
       "      <td>Zambia</td>\n",
       "      <td>RBA</td>\n",
       "    </tr>\n",
       "  </tbody>\n",
       "</table>\n",
       "</div>"
      ],
      "text/plain": [
       "  Project ID                                      Project Title     Budget  \\\n",
       "0     117913      Résilience des communautés et des écosystèmes  3459600.0   \n",
       "1     134793  Accès aux énergies renouvelables en milieu rur...  1431552.0   \n",
       "2      91204   Apoyo a la Modernización de La Gestión Ambiental  4202031.0   \n",
       "3     133871                     Beyond Recovery COVID19 Energy   473000.0   \n",
       "4       6613                          Africa Mini-grids Program  1363947.0   \n",
       "\n",
       "                                              Donors VF or Non-VF  \\\n",
       "0                 ['UNITED NATIONS DEVELOPMENT PRO']       Non-VF   \n",
       "1                 ['UNITED NATIONS DEVELOPMENT PRO']       Non-VF   \n",
       "2  UNDP (TRAC 4000) CLIMATE PROMISE (28708) - NDC...       Non-VF   \n",
       "3                 ['UNITED NATIONS DEVELOPMENT PRO']       Non-VF   \n",
       "4                                                NaN           VF   \n",
       "\n",
       "   Output Count  Direct Beneficiaries  \\\n",
       "0             3                3697.5   \n",
       "1             3               31525.0   \n",
       "2             1                   0.0   \n",
       "3             2               17500.0   \n",
       "4             3                4936.0   \n",
       "\n",
       "                                         description continent country  \\\n",
       "0  Il s’agit de la promotion du développement Loc...    Africa    Togo   \n",
       "1  Accélération de l’accès aux énergies renouvela...    Africa    Togo   \n",
       "2                                                NaN  Americas  Panama   \n",
       "3  Acceso universal, a través de la implementació...  Americas  Panama   \n",
       "4                                                NaN    Africa  Zambia   \n",
       "\n",
       "  undp_region  \n",
       "0         RBA  \n",
       "1         RBA  \n",
       "2       RBLAC  \n",
       "3       RBLAC  \n",
       "4         RBA  "
      ]
     },
     "execution_count": 149,
     "metadata": {},
     "output_type": "execute_result"
    }
   ],
   "source": [
    "projects.head()"
   ]
  },
  {
   "cell_type": "code",
   "execution_count": 154,
   "id": "c70eed2d-4eb1-49ff-86d5-12a3155366ea",
   "metadata": {},
   "outputs": [
    {
     "data": {
      "text/plain": [
       "(340, 11)"
      ]
     },
     "execution_count": 154,
     "metadata": {},
     "output_type": "execute_result"
    }
   ],
   "source": [
    "projects.shape"
   ]
  },
  {
   "cell_type": "code",
   "execution_count": 156,
   "id": "c9c20376-91b3-47ae-bfe9-4f40d928c58f",
   "metadata": {},
   "outputs": [
    {
     "data": {
      "text/plain": [
       "339"
      ]
     },
     "execution_count": 156,
     "metadata": {},
     "output_type": "execute_result"
    }
   ],
   "source": [
    "projects['Project ID'].nunique()"
   ]
  },
  {
   "cell_type": "markdown",
   "id": "5e89512a-d3e4-477d-b8e0-4cac18e0aeef",
   "metadata": {},
   "source": [
    "## 2. Create a function to get each 'project' for the specified 'continent-region', 'Country Name', or 'Region'"
   ]
  },
  {
   "cell_type": "code",
   "execution_count": 150,
   "id": "78624b72-89d3-404e-a7af-7bb2aeb21246",
   "metadata": {},
   "outputs": [],
   "source": [
    "def get_project_per_region(region_type, region_value):\n",
    "    target_projects = None\n",
    "    region_type, region_value = region_type.lower(), region_value.lower()\n",
    "    if region_type == 'continent':\n",
    "        target_projects = projects[projects['continent'].str.lower().isin([region_value])]\n",
    "    elif region_type == 'country':\n",
    "        target_projects = projects[projects['country'].str.lower().isin([region_value])]\n",
    "    elif region_type == 'undp_region':\n",
    "        target_projects = projects[projects['undp_region'].str.lower().isin([region_value])]\n",
    "    return target_projects"
   ]
  },
  {
   "cell_type": "code",
   "execution_count": 151,
   "id": "44f9205a-996b-4ef6-92ff-f1d13a01b8c4",
   "metadata": {},
   "outputs": [
    {
     "name": "stdout",
     "output_type": "stream",
     "text": [
      "['Africa']\n",
      "['Americas']\n",
      "['Panama']\n",
      "['RBLAC']\n"
     ]
    }
   ],
   "source": [
    "# test function\n",
    "print(get_project_per_region('continent', 'Africa')['continent'].unique())\n",
    "print(get_project_per_region('continent', 'americas')['continent'].unique())\n",
    "print(get_project_per_region('country', 'panama')['country'].unique())\n",
    "print(get_project_per_region('undp_region', 'rblac')['undp_region'].unique())"
   ]
  },
  {
   "cell_type": "markdown",
   "id": "b50e7c9c-a6e6-4f8b-8429-d99ddacd62fa",
   "metadata": {},
   "source": [
    "## 3. Create a function to get the 'output's of each 'project'"
   ]
  },
  {
   "cell_type": "code",
   "execution_count": 160,
   "id": "2629083e-8cbf-4ce5-aaf8-cb6659a74e06",
   "metadata": {},
   "outputs": [
    {
     "data": {
      "text/html": [
       "<div>\n",
       "<style scoped>\n",
       "    .dataframe tbody tr th:only-of-type {\n",
       "        vertical-align: middle;\n",
       "    }\n",
       "\n",
       "    .dataframe tbody tr th {\n",
       "        vertical-align: top;\n",
       "    }\n",
       "\n",
       "    .dataframe thead th {\n",
       "        text-align: right;\n",
       "    }\n",
       "</style>\n",
       "<table border=\"1\" class=\"dataframe\">\n",
       "  <thead>\n",
       "    <tr style=\"text-align: right;\">\n",
       "      <th></th>\n",
       "      <th>Project ID</th>\n",
       "      <th>Beneficiary Category</th>\n",
       "      <th>Gender (% female)</th>\n",
       "      <th>continent-region</th>\n",
       "      <th>Country Name</th>\n",
       "      <th>Region</th>\n",
       "      <th>Direct Beneficiaries</th>\n",
       "      <th>Output Category</th>\n",
       "      <th>Description</th>\n",
       "    </tr>\n",
       "  </thead>\n",
       "  <tbody>\n",
       "    <tr>\n",
       "      <th>0</th>\n",
       "      <td>117913</td>\n",
       "      <td>Clean Electricity</td>\n",
       "      <td>0.24</td>\n",
       "      <td>Africa</td>\n",
       "      <td>Togo</td>\n",
       "      <td>RBA</td>\n",
       "      <td>3697.5</td>\n",
       "      <td>Energy Access</td>\n",
       "      <td>Provide access to solar energy for 3697 househ...</td>\n",
       "    </tr>\n",
       "    <tr>\n",
       "      <th>1</th>\n",
       "      <td>117913</td>\n",
       "      <td>Other</td>\n",
       "      <td>NaN</td>\n",
       "      <td>Africa</td>\n",
       "      <td>Togo</td>\n",
       "      <td>RBA</td>\n",
       "      <td>0.0</td>\n",
       "      <td>Other</td>\n",
       "      <td>Increase the percentage of coal producers in t...</td>\n",
       "    </tr>\n",
       "    <tr>\n",
       "      <th>2</th>\n",
       "      <td>117913</td>\n",
       "      <td>Other</td>\n",
       "      <td>NaN</td>\n",
       "      <td>Africa</td>\n",
       "      <td>Togo</td>\n",
       "      <td>RBA</td>\n",
       "      <td>0.0</td>\n",
       "      <td>Other</td>\n",
       "      <td>Convert 460 female charcoal producers to alter...</td>\n",
       "    </tr>\n",
       "    <tr>\n",
       "      <th>3</th>\n",
       "      <td>134793</td>\n",
       "      <td>Clean Electricity</td>\n",
       "      <td>0.2</td>\n",
       "      <td>Africa</td>\n",
       "      <td>Togo</td>\n",
       "      <td>RBA</td>\n",
       "      <td>6525.0</td>\n",
       "      <td>Energy Access</td>\n",
       "      <td>Provide access to solar energy for households ...</td>\n",
       "    </tr>\n",
       "    <tr>\n",
       "      <th>4</th>\n",
       "      <td>134793</td>\n",
       "      <td>Other</td>\n",
       "      <td>NaN</td>\n",
       "      <td>Africa</td>\n",
       "      <td>Togo</td>\n",
       "      <td>RBA</td>\n",
       "      <td>0.0</td>\n",
       "      <td>Other</td>\n",
       "      <td>Accelerate access to renewable energy for econ...</td>\n",
       "    </tr>\n",
       "  </tbody>\n",
       "</table>\n",
       "</div>"
      ],
      "text/plain": [
       "  Project ID Beneficiary Category Gender (% female) continent-region  \\\n",
       "0     117913    Clean Electricity              0.24           Africa   \n",
       "1     117913                Other               NaN           Africa   \n",
       "2     117913                Other               NaN           Africa   \n",
       "3     134793    Clean Electricity               0.2           Africa   \n",
       "4     134793                Other               NaN           Africa   \n",
       "\n",
       "  Country Name Region  Direct Beneficiaries Output Category  \\\n",
       "0         Togo    RBA                3697.5   Energy Access   \n",
       "1         Togo    RBA                   0.0           Other   \n",
       "2         Togo    RBA                   0.0           Other   \n",
       "3         Togo    RBA                6525.0   Energy Access   \n",
       "4         Togo    RBA                   0.0           Other   \n",
       "\n",
       "                                         Description  \n",
       "0  Provide access to solar energy for 3697 househ...  \n",
       "1  Increase the percentage of coal producers in t...  \n",
       "2  Convert 460 female charcoal producers to alter...  \n",
       "3  Provide access to solar energy for households ...  \n",
       "4  Accelerate access to renewable energy for econ...  "
      ]
     },
     "execution_count": 160,
     "metadata": {},
     "output_type": "execute_result"
    }
   ],
   "source": [
    "outputs.head()"
   ]
  },
  {
   "cell_type": "code",
   "execution_count": 164,
   "id": "cfac21b1-7629-40c9-8752-fc9d86d3cdb3",
   "metadata": {},
   "outputs": [],
   "source": [
    "def get_output_per_project(project_ids):\n",
    "    return outputs[outputs['Project ID'].isin(project_ids)]"
   ]
  },
  {
   "cell_type": "code",
   "execution_count": 165,
   "id": "ad11a7d5-9dad-425f-9c9b-a7472838e8ee",
   "metadata": {},
   "outputs": [
    {
     "data": {
      "text/html": [
       "<div>\n",
       "<style scoped>\n",
       "    .dataframe tbody tr th:only-of-type {\n",
       "        vertical-align: middle;\n",
       "    }\n",
       "\n",
       "    .dataframe tbody tr th {\n",
       "        vertical-align: top;\n",
       "    }\n",
       "\n",
       "    .dataframe thead th {\n",
       "        text-align: right;\n",
       "    }\n",
       "</style>\n",
       "<table border=\"1\" class=\"dataframe\">\n",
       "  <thead>\n",
       "    <tr style=\"text-align: right;\">\n",
       "      <th></th>\n",
       "      <th>Project ID</th>\n",
       "      <th>Beneficiary Category</th>\n",
       "      <th>Gender (% female)</th>\n",
       "      <th>continent-region</th>\n",
       "      <th>Country Name</th>\n",
       "      <th>Region</th>\n",
       "      <th>Direct Beneficiaries</th>\n",
       "      <th>Output Category</th>\n",
       "      <th>Description</th>\n",
       "    </tr>\n",
       "  </thead>\n",
       "  <tbody>\n",
       "    <tr>\n",
       "      <th>9</th>\n",
       "      <td>6613</td>\n",
       "      <td>Agriculture and Food System</td>\n",
       "      <td>51</td>\n",
       "      <td>Africa</td>\n",
       "      <td>Zambia</td>\n",
       "      <td>RBA</td>\n",
       "      <td>4936.0</td>\n",
       "      <td>Energy Access</td>\n",
       "      <td>Provide energy access to 4,936 beneficiaries, ...</td>\n",
       "    </tr>\n",
       "    <tr>\n",
       "      <th>10</th>\n",
       "      <td>6613</td>\n",
       "      <td>Other</td>\n",
       "      <td>NaN</td>\n",
       "      <td>Africa</td>\n",
       "      <td>Zambia</td>\n",
       "      <td>RBA</td>\n",
       "      <td>0.0</td>\n",
       "      <td>GHG Emissions Reduction</td>\n",
       "      <td>Mitigate 13.78 ktCO2 of greenhouse gas emissio...</td>\n",
       "    </tr>\n",
       "    <tr>\n",
       "      <th>11</th>\n",
       "      <td>6613</td>\n",
       "      <td>Clean Electricity</td>\n",
       "      <td>NaN</td>\n",
       "      <td>Africa</td>\n",
       "      <td>Zambia</td>\n",
       "      <td>RBA</td>\n",
       "      <td>0.0</td>\n",
       "      <td>Energy Access</td>\n",
       "      <td>Install 450 kW of solar PV capacity and 1.091 ...</td>\n",
       "    </tr>\n",
       "    <tr>\n",
       "      <th>12</th>\n",
       "      <td>missing-ZMB-1</td>\n",
       "      <td>Health Services</td>\n",
       "      <td>NaN</td>\n",
       "      <td>Africa</td>\n",
       "      <td>Zambia</td>\n",
       "      <td>RBA</td>\n",
       "      <td>810000.0</td>\n",
       "      <td>Energy Access</td>\n",
       "      <td>Provide access to modern electricity service f...</td>\n",
       "    </tr>\n",
       "    <tr>\n",
       "      <th>13</th>\n",
       "      <td>missing-ZMB-1</td>\n",
       "      <td>Other</td>\n",
       "      <td>NaN</td>\n",
       "      <td>Africa</td>\n",
       "      <td>Zambia</td>\n",
       "      <td>RBA</td>\n",
       "      <td>0.0</td>\n",
       "      <td>Other</td>\n",
       "      <td>Provide uninterrupted power supply to 1002 hea...</td>\n",
       "    </tr>\n",
       "    <tr>\n",
       "      <th>391</th>\n",
       "      <td>1061012</td>\n",
       "      <td>Other</td>\n",
       "      <td>NaN</td>\n",
       "      <td>Asia</td>\n",
       "      <td>Viet Nam</td>\n",
       "      <td>RBAP</td>\n",
       "      <td>0.0</td>\n",
       "      <td>GHG Emissions Reduction</td>\n",
       "      <td>Reduce 45 tonnes of CO2 emissions per year thr...</td>\n",
       "    </tr>\n",
       "    <tr>\n",
       "      <th>392</th>\n",
       "      <td>1061012</td>\n",
       "      <td>Unknown</td>\n",
       "      <td>NaN</td>\n",
       "      <td>Asia</td>\n",
       "      <td>Viet Nam</td>\n",
       "      <td>RBAP</td>\n",
       "      <td>73500.0</td>\n",
       "      <td>Energy Transition</td>\n",
       "      <td>Install 4.2 megawatts of renewable or low-emis...</td>\n",
       "    </tr>\n",
       "    <tr>\n",
       "      <th>393</th>\n",
       "      <td>1061012</td>\n",
       "      <td>Unknown</td>\n",
       "      <td>NaN</td>\n",
       "      <td>Asia</td>\n",
       "      <td>Viet Nam</td>\n",
       "      <td>RBAP</td>\n",
       "      <td>570.0</td>\n",
       "      <td>Energy Transition</td>\n",
       "      <td>Provide new access to green/sustainable energy...</td>\n",
       "    </tr>\n",
       "    <tr>\n",
       "      <th>394</th>\n",
       "      <td>1061012</td>\n",
       "      <td>Other</td>\n",
       "      <td>NaN</td>\n",
       "      <td>Asia</td>\n",
       "      <td>Viet Nam</td>\n",
       "      <td>RBAP</td>\n",
       "      <td>0.0</td>\n",
       "      <td>Other</td>\n",
       "      <td>Create 70 green/sustainable jobs in Viet Nam t...</td>\n",
       "    </tr>\n",
       "    <tr>\n",
       "      <th>395</th>\n",
       "      <td>1061012</td>\n",
       "      <td>Other</td>\n",
       "      <td>NaN</td>\n",
       "      <td>Asia</td>\n",
       "      <td>Viet Nam</td>\n",
       "      <td>RBAP</td>\n",
       "      <td>0.0</td>\n",
       "      <td>Other</td>\n",
       "      <td>Train and educate 370 individuals through tech...</td>\n",
       "    </tr>\n",
       "    <tr>\n",
       "      <th>396</th>\n",
       "      <td>1061012</td>\n",
       "      <td>Other</td>\n",
       "      <td>NaN</td>\n",
       "      <td>Asia</td>\n",
       "      <td>Viet Nam</td>\n",
       "      <td>RBAP</td>\n",
       "      <td>400.0</td>\n",
       "      <td>Other</td>\n",
       "      <td>Integrate NDC targets or net-zero goals into 4...</td>\n",
       "    </tr>\n",
       "  </tbody>\n",
       "</table>\n",
       "</div>"
      ],
      "text/plain": [
       "        Project ID         Beneficiary Category Gender (% female)  \\\n",
       "9             6613  Agriculture and Food System                51   \n",
       "10            6613                        Other               NaN   \n",
       "11            6613            Clean Electricity               NaN   \n",
       "12   missing-ZMB-1              Health Services               NaN   \n",
       "13   missing-ZMB-1                        Other               NaN   \n",
       "391        1061012                        Other               NaN   \n",
       "392        1061012                      Unknown               NaN   \n",
       "393        1061012                      Unknown               NaN   \n",
       "394        1061012                        Other               NaN   \n",
       "395        1061012                        Other               NaN   \n",
       "396        1061012                        Other               NaN   \n",
       "\n",
       "    continent-region Country Name Region  Direct Beneficiaries  \\\n",
       "9             Africa       Zambia    RBA                4936.0   \n",
       "10            Africa       Zambia    RBA                   0.0   \n",
       "11            Africa       Zambia    RBA                   0.0   \n",
       "12            Africa       Zambia    RBA              810000.0   \n",
       "13            Africa       Zambia    RBA                   0.0   \n",
       "391             Asia     Viet Nam   RBAP                   0.0   \n",
       "392             Asia     Viet Nam   RBAP               73500.0   \n",
       "393             Asia     Viet Nam   RBAP                 570.0   \n",
       "394             Asia     Viet Nam   RBAP                   0.0   \n",
       "395             Asia     Viet Nam   RBAP                   0.0   \n",
       "396             Asia     Viet Nam   RBAP                 400.0   \n",
       "\n",
       "             Output Category  \\\n",
       "9              Energy Access   \n",
       "10   GHG Emissions Reduction   \n",
       "11             Energy Access   \n",
       "12             Energy Access   \n",
       "13                     Other   \n",
       "391  GHG Emissions Reduction   \n",
       "392        Energy Transition   \n",
       "393        Energy Transition   \n",
       "394                    Other   \n",
       "395                    Other   \n",
       "396                    Other   \n",
       "\n",
       "                                           Description  \n",
       "9    Provide energy access to 4,936 beneficiaries, ...  \n",
       "10   Mitigate 13.78 ktCO2 of greenhouse gas emissio...  \n",
       "11   Install 450 kW of solar PV capacity and 1.091 ...  \n",
       "12   Provide access to modern electricity service f...  \n",
       "13   Provide uninterrupted power supply to 1002 hea...  \n",
       "391  Reduce 45 tonnes of CO2 emissions per year thr...  \n",
       "392  Install 4.2 megawatts of renewable or low-emis...  \n",
       "393  Provide new access to green/sustainable energy...  \n",
       "394  Create 70 green/sustainable jobs in Viet Nam t...  \n",
       "395  Train and educate 370 individuals through tech...  \n",
       "396  Integrate NDC targets or net-zero goals into 4...  "
      ]
     },
     "execution_count": 165,
     "metadata": {},
     "output_type": "execute_result"
    }
   ],
   "source": [
    "# test function\n",
    "project_ids = ['6613', 'missing-ZMB-1', '1061012', '0']\n",
    "get_output_per_project(project_ids)"
   ]
  },
  {
   "cell_type": "code",
   "execution_count": null,
   "id": "641a5f67-16f1-4440-b8fc-248d17b226c7",
   "metadata": {},
   "outputs": [],
   "source": []
  }
 ],
 "metadata": {
  "kernelspec": {
   "display_name": "Python 3 (ipykernel)",
   "language": "python",
   "name": "python3"
  },
  "language_info": {
   "codemirror_mode": {
    "name": "ipython",
    "version": 3
   },
   "file_extension": ".py",
   "mimetype": "text/x-python",
   "name": "python",
   "nbconvert_exporter": "python",
   "pygments_lexer": "ipython3",
   "version": "3.11.5"
  }
 },
 "nbformat": 4,
 "nbformat_minor": 5
}
