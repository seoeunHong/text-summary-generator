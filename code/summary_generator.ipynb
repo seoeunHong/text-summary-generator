{
 "cells": [
  {
   "cell_type": "markdown",
   "id": "069a6711-89f8-4920-abe0-98e16cfe05b4",
   "metadata": {},
   "source": [
    "# Import Dependencies"
   ]
  },
  {
   "cell_type": "code",
   "execution_count": 116,
   "id": "8fc5f4d9-5ecf-4512-be35-796960bebe5a",
   "metadata": {},
   "outputs": [],
   "source": [
    "import numpy as np\n",
    "import pandas as pd\n",
    "import openai\n",
    "import os\n",
    "from dotenv import load_dotenv\n",
    "from openai import AzureOpenAI\n",
    "from collections import defaultdict\n",
    "import json"
   ]
  },
  {
   "cell_type": "markdown",
   "id": "af71190e-180e-468e-9da2-bfb229688098",
   "metadata": {},
   "source": [
    "# Load Environments"
   ]
  },
  {
   "cell_type": "code",
   "execution_count": 47,
   "id": "694377a3-666a-4ade-86f1-4754a5bd72dd",
   "metadata": {},
   "outputs": [
    {
     "data": {
      "text/plain": [
       "True"
      ]
     },
     "execution_count": 47,
     "metadata": {},
     "output_type": "execute_result"
    }
   ],
   "source": [
    "load_dotenv()"
   ]
  },
  {
   "cell_type": "markdown",
   "id": "1bbb26ac-e0e3-461f-bdae-9b437bed7dc0",
   "metadata": {},
   "source": [
    "# OpenAI API Configuration"
   ]
  },
  {
   "cell_type": "code",
   "execution_count": 48,
   "id": "2630fbf8-0de1-4b09-bab9-2b3d58ed1f57",
   "metadata": {},
   "outputs": [],
   "source": [
    "# OpenAI API configuration\n",
    "openai.api_type = \"azure\"\n",
    "openai.api_key = os.getenv(\"api_key_azure\")\n",
    "openai.api_base = os.getenv(\"AZURE_OPENAI_ENDPOINT\")\n",
    "openai.api_version = os.getenv(\"api_version\")\n",
    "openai_deployment = \"sdgi-gpt-35-turbo-16k\"\n",
    "\n",
    "\n",
    "client = AzureOpenAI(\n",
    "  api_key = os.getenv(\"api_key_azure\"),  \n",
    "  api_version = os.getenv(\"api_version\"),\n",
    "  azure_endpoint =os.getenv(\"AZURE_OPENAI_ENDPOINT\") \n",
    ")"
   ]
  },
  {
   "cell_type": "code",
   "execution_count": 49,
   "id": "33fc4c8c-d5b5-45b2-952b-01a7d43ff950",
   "metadata": {},
   "outputs": [],
   "source": [
    "# use this function to make simple openAI Calls\n",
    "def callOpenAI(prompt):  \n",
    "    response_entities = openai.chat.completions.create(\n",
    "                    model=openai_deployment,\n",
    "                    temperature=0,\n",
    "                    messages=[\n",
    "                        {\"role\": \"user\", \"content\": prompt},\n",
    "                    ]\n",
    "                )\n",
    "    response = response_entities.choices[0].message.content\n",
    "    return response"
   ]
  },
  {
   "cell_type": "markdown",
   "id": "c550a477-c21a-4bc8-b43c-388227ad0eb9",
   "metadata": {},
   "source": [
    "# Convert Multiple Excel sheets to CSV"
   ]
  },
  {
   "cell_type": "code",
   "execution_count": 49,
   "id": "05149176-9d15-47aa-8fe9-32635cdc609d",
   "metadata": {},
   "outputs": [],
   "source": [
    "excel_file = '../data/Moonshot Tracker Results - Auto.xlsx'\n",
    "all_sheets = pd.read_excel(excel_file, sheet_name=None)\n",
    "sheets = all_sheets.keys()\n",
    "\n",
    "for sheet_name in sheets:\n",
    "    sheet = pd.read_excel(excel_file, sheet_name=sheet_name)\n",
    "    sheet.to_csv(f\"../data/{sheet_name}.csv\", index=False)"
   ]
  },
  {
   "cell_type": "code",
   "execution_count": 50,
   "id": "6d8b664d-7df3-4acf-9288-ef17340db263",
   "metadata": {},
   "outputs": [],
   "source": [
    "projects_raw = pd.read_csv(\"../data/Projects.csv\")\n",
    "outputs = pd.read_csv(\"../data/Outputs.csv\")"
   ]
  },
  {
   "cell_type": "markdown",
   "id": "98b7e3c4-5628-4b19-95bd-292c47bc4223",
   "metadata": {},
   "source": [
    "# Data Relationship"
   ]
  },
  {
   "cell_type": "markdown",
   "id": "f0d8b883-ffb5-4d0f-84cf-c72dcd2d5c2b",
   "metadata": {},
   "source": [
    "![image info](../data/data_relationship.jpeg)"
   ]
  },
  {
   "cell_type": "code",
   "execution_count": 51,
   "id": "d0f5933b-5571-4360-9248-37e2b7d7756b",
   "metadata": {},
   "outputs": [
    {
     "data": {
      "text/plain": [
       "Index(['Project ID', 'Project Title', 'Budget', 'Country', 'Country Code',\n",
       "       'Link', 'Donors', 'VF or Non-VF', 'Output Count',\n",
       "       'Direct Beneficiaries', 'GHG Emissions Reduction', 'description',\n",
       "       'sdgs', 'solution', 'Gender Marker'],\n",
       "      dtype='object')"
      ]
     },
     "execution_count": 51,
     "metadata": {},
     "output_type": "execute_result"
    }
   ],
   "source": [
    "projects_raw.columns"
   ]
  },
  {
   "cell_type": "code",
   "execution_count": 52,
   "id": "3388402a-a19c-4f55-8a62-d3a3fe912eb9",
   "metadata": {},
   "outputs": [],
   "source": [
    "project_target_column  = ['Project ID', 'Project Title', 'Budget', 'VF or Non-VF', 'Output Count',\n",
    "       'Direct Beneficiaries']"
   ]
  },
  {
   "cell_type": "code",
   "execution_count": 53,
   "id": "7ab693bf-e0ac-4ba1-ac59-38a06a4bd1e7",
   "metadata": {},
   "outputs": [],
   "source": [
    "projects_raw = projects_raw[project_target_column]"
   ]
  },
  {
   "cell_type": "code",
   "execution_count": 54,
   "id": "f74ceea7-62c5-40e6-97ca-9b2e4de4cfa7",
   "metadata": {
    "scrolled": true
   },
   "outputs": [
    {
     "data": {
      "text/plain": [
       "Index(['Project ID', 'Title', 'Link', 'Budget', 'Beneficiary Category',\n",
       "       'Indicator', 'Baseline', 'Target', 'Notes', 'Donors',\n",
       "       'Gender (% female)', 'VF or Non-VF', 'Tag', 'SEH Taxonomy',\n",
       "       'RISE Taxonomy', 'Flagship', 'Technology', 'Output ID', 'Country Code',\n",
       "       'Category', 'name 2', 'm49', 'continent-region', 'sub-region',\n",
       "       'sids-region', 'un-member', 'undp-sids', 'un-region', 'Country Name',\n",
       "       'Region', 'Economy', 'LDC', 'SIDS', 'LLDC', 'HDI', 'Status',\n",
       "       'Direct Conversion Factor', 'Direct Beneficiaries', 'Output Category',\n",
       "       'Beneficiary Category Pre', 'Description'],\n",
       "      dtype='object')"
      ]
     },
     "execution_count": 54,
     "metadata": {},
     "output_type": "execute_result"
    }
   ],
   "source": [
    "outputs.columns"
   ]
  },
  {
   "cell_type": "code",
   "execution_count": 55,
   "id": "2d1086e3-46b6-47f8-9c47-d810b86cede8",
   "metadata": {},
   "outputs": [],
   "source": [
    "outputs_target_column  = ['Project ID', 'Beneficiary Category', 'continent-region', 'Country Name',\n",
    "       'Region', 'Direct Beneficiaries']"
   ]
  },
  {
   "cell_type": "code",
   "execution_count": 106,
   "id": "9ae11f23-23ed-4d97-835a-76f5b608c7d0",
   "metadata": {},
   "outputs": [],
   "source": [
    "outputs = outputs[outputs_target_column]\n",
    "outputs = outputs.replace({np.nan: None})"
   ]
  },
  {
   "cell_type": "markdown",
   "id": "49e067d6-843a-4c05-bf56-4cd3643d6ffd",
   "metadata": {},
   "source": [
    "# Functions for Extracting Information\n",
    "Our Goal: Generate text summaries of the UNDP portfolio for each country\n",
    "\n",
    "Approach: \n",
    "1. Assign 'continent-region', 'Country Name', and 'Region' to the project dataframe.\n",
    "2. Create a function to get each 'project' for the specified 'continent-region', 'Country Name', or 'Region'.\n",
    "3. Create a function to get the 'output's of each 'project'.\n",
    "4. Create a function to call the OpenAI API and generate a summary for the UNDP portfolio for each country using a suitable prompt."
   ]
  },
  {
   "cell_type": "markdown",
   "id": "91e27574-e7f9-4eec-8014-4c58f71592a7",
   "metadata": {},
   "source": [
    "## 1. Assign 'continent-region', 'Country Name', and 'Region' to the project dataframe"
   ]
  },
  {
   "cell_type": "code",
   "execution_count": 10,
   "id": "a5ed99e7-40fb-42fe-af9e-f4be1f76fdc8",
   "metadata": {},
   "outputs": [],
   "source": [
    "output_country = outputs[['Project ID', 'continent-region', 'Country Name','Region']]"
   ]
  },
  {
   "cell_type": "code",
   "execution_count": 11,
   "id": "a6ab560b-a576-4452-94ab-c263eacaa05e",
   "metadata": {},
   "outputs": [],
   "source": [
    "output_country = output_country.drop_duplicates().reset_index(drop=True)"
   ]
  },
  {
   "cell_type": "code",
   "execution_count": 12,
   "id": "e985309c-16af-465e-b9f0-89328bcc0812",
   "metadata": {},
   "outputs": [],
   "source": [
    "projects = pd.merge(projects_raw, output_country, on = 'Project ID')"
   ]
  },
  {
   "cell_type": "code",
   "execution_count": 13,
   "id": "bb4fc3b7-d338-40a5-887e-14430ae1122a",
   "metadata": {},
   "outputs": [],
   "source": [
    "projects.rename(columns = {'continent-region':'continent', 'Country Name': 'country','Region': 'undp_region'}, inplace = True)"
   ]
  },
  {
   "cell_type": "code",
   "execution_count": 107,
   "id": "104416b0-e008-41b8-87db-8a85a348f40b",
   "metadata": {},
   "outputs": [],
   "source": [
    "projects = projects.replace({np.nan: None})"
   ]
  },
  {
   "cell_type": "code",
   "execution_count": 108,
   "id": "e729f911-3e59-4d27-9c1b-366f6cb42d6a",
   "metadata": {},
   "outputs": [
    {
     "data": {
      "text/html": [
       "<div>\n",
       "<style scoped>\n",
       "    .dataframe tbody tr th:only-of-type {\n",
       "        vertical-align: middle;\n",
       "    }\n",
       "\n",
       "    .dataframe tbody tr th {\n",
       "        vertical-align: top;\n",
       "    }\n",
       "\n",
       "    .dataframe thead th {\n",
       "        text-align: right;\n",
       "    }\n",
       "</style>\n",
       "<table border=\"1\" class=\"dataframe\">\n",
       "  <thead>\n",
       "    <tr style=\"text-align: right;\">\n",
       "      <th></th>\n",
       "      <th>Project ID</th>\n",
       "      <th>Project Title</th>\n",
       "      <th>Budget</th>\n",
       "      <th>Donors</th>\n",
       "      <th>VF or Non-VF</th>\n",
       "      <th>Output Count</th>\n",
       "      <th>Direct Beneficiaries</th>\n",
       "      <th>description</th>\n",
       "      <th>continent</th>\n",
       "      <th>country</th>\n",
       "      <th>undp_region</th>\n",
       "    </tr>\n",
       "  </thead>\n",
       "  <tbody>\n",
       "    <tr>\n",
       "      <th>0</th>\n",
       "      <td>117913</td>\n",
       "      <td>Résilience des communautés et des écosystèmes</td>\n",
       "      <td>3459600.0</td>\n",
       "      <td>['UNITED NATIONS DEVELOPMENT PRO']</td>\n",
       "      <td>Non-VF</td>\n",
       "      <td>3</td>\n",
       "      <td>3697.5</td>\n",
       "      <td>Il s’agit de la promotion du développement Loc...</td>\n",
       "      <td>Africa</td>\n",
       "      <td>Togo</td>\n",
       "      <td>RBA</td>\n",
       "    </tr>\n",
       "    <tr>\n",
       "      <th>1</th>\n",
       "      <td>134793</td>\n",
       "      <td>Accès aux énergies renouvelables en milieu rur...</td>\n",
       "      <td>1431552.0</td>\n",
       "      <td>['UNITED NATIONS DEVELOPMENT PRO']</td>\n",
       "      <td>Non-VF</td>\n",
       "      <td>3</td>\n",
       "      <td>31525.0</td>\n",
       "      <td>Accélération de l’accès aux énergies renouvela...</td>\n",
       "      <td>Africa</td>\n",
       "      <td>Togo</td>\n",
       "      <td>RBA</td>\n",
       "    </tr>\n",
       "    <tr>\n",
       "      <th>2</th>\n",
       "      <td>91204</td>\n",
       "      <td>Apoyo a la Modernización de La Gestión Ambiental</td>\n",
       "      <td>4202031.0</td>\n",
       "      <td>UNDP (TRAC 4000) CLIMATE PROMISE (28708) - NDC...</td>\n",
       "      <td>Non-VF</td>\n",
       "      <td>1</td>\n",
       "      <td>0.0</td>\n",
       "      <td>None</td>\n",
       "      <td>Americas</td>\n",
       "      <td>Panama</td>\n",
       "      <td>RBLAC</td>\n",
       "    </tr>\n",
       "    <tr>\n",
       "      <th>3</th>\n",
       "      <td>133871</td>\n",
       "      <td>Beyond Recovery COVID19 Energy</td>\n",
       "      <td>473000.0</td>\n",
       "      <td>['UNITED NATIONS DEVELOPMENT PRO']</td>\n",
       "      <td>Non-VF</td>\n",
       "      <td>2</td>\n",
       "      <td>17500.0</td>\n",
       "      <td>Acceso universal, a través de la implementació...</td>\n",
       "      <td>Americas</td>\n",
       "      <td>Panama</td>\n",
       "      <td>RBLAC</td>\n",
       "    </tr>\n",
       "    <tr>\n",
       "      <th>4</th>\n",
       "      <td>6613</td>\n",
       "      <td>Africa Mini-grids Program</td>\n",
       "      <td>1363947.0</td>\n",
       "      <td>None</td>\n",
       "      <td>VF</td>\n",
       "      <td>3</td>\n",
       "      <td>4936.0</td>\n",
       "      <td>None</td>\n",
       "      <td>Africa</td>\n",
       "      <td>Zambia</td>\n",
       "      <td>RBA</td>\n",
       "    </tr>\n",
       "  </tbody>\n",
       "</table>\n",
       "</div>"
      ],
      "text/plain": [
       "  Project ID                                      Project Title     Budget  \\\n",
       "0     117913      Résilience des communautés et des écosystèmes  3459600.0   \n",
       "1     134793  Accès aux énergies renouvelables en milieu rur...  1431552.0   \n",
       "2      91204   Apoyo a la Modernización de La Gestión Ambiental  4202031.0   \n",
       "3     133871                     Beyond Recovery COVID19 Energy   473000.0   \n",
       "4       6613                          Africa Mini-grids Program  1363947.0   \n",
       "\n",
       "                                              Donors VF or Non-VF  \\\n",
       "0                 ['UNITED NATIONS DEVELOPMENT PRO']       Non-VF   \n",
       "1                 ['UNITED NATIONS DEVELOPMENT PRO']       Non-VF   \n",
       "2  UNDP (TRAC 4000) CLIMATE PROMISE (28708) - NDC...       Non-VF   \n",
       "3                 ['UNITED NATIONS DEVELOPMENT PRO']       Non-VF   \n",
       "4                                               None           VF   \n",
       "\n",
       "   Output Count Direct Beneficiaries  \\\n",
       "0             3               3697.5   \n",
       "1             3              31525.0   \n",
       "2             1                  0.0   \n",
       "3             2              17500.0   \n",
       "4             3               4936.0   \n",
       "\n",
       "                                         description continent country  \\\n",
       "0  Il s’agit de la promotion du développement Loc...    Africa    Togo   \n",
       "1  Accélération de l’accès aux énergies renouvela...    Africa    Togo   \n",
       "2                                               None  Americas  Panama   \n",
       "3  Acceso universal, a través de la implementació...  Americas  Panama   \n",
       "4                                               None    Africa  Zambia   \n",
       "\n",
       "  undp_region  \n",
       "0         RBA  \n",
       "1         RBA  \n",
       "2       RBLAC  \n",
       "3       RBLAC  \n",
       "4         RBA  "
      ]
     },
     "execution_count": 108,
     "metadata": {},
     "output_type": "execute_result"
    }
   ],
   "source": [
    "projects.head()"
   ]
  },
  {
   "cell_type": "code",
   "execution_count": 109,
   "id": "c70eed2d-4eb1-49ff-86d5-12a3155366ea",
   "metadata": {},
   "outputs": [
    {
     "data": {
      "text/plain": [
       "(340, 11)"
      ]
     },
     "execution_count": 109,
     "metadata": {},
     "output_type": "execute_result"
    }
   ],
   "source": [
    "projects.shape"
   ]
  },
  {
   "cell_type": "code",
   "execution_count": 110,
   "id": "c9c20376-91b3-47ae-bfe9-4f40d928c58f",
   "metadata": {},
   "outputs": [
    {
     "data": {
      "text/plain": [
       "339"
      ]
     },
     "execution_count": 110,
     "metadata": {},
     "output_type": "execute_result"
    }
   ],
   "source": [
    "projects['Project ID'].nunique()"
   ]
  },
  {
   "cell_type": "markdown",
   "id": "5e89512a-d3e4-477d-b8e0-4cac18e0aeef",
   "metadata": {},
   "source": [
    "## 2. Create a function to get each 'project' for the specified 'continent-region', 'Country Name', or 'Region'"
   ]
  },
  {
   "cell_type": "code",
   "execution_count": 17,
   "id": "78624b72-89d3-404e-a7af-7bb2aeb21246",
   "metadata": {},
   "outputs": [],
   "source": [
    "def get_project_per_region(region_type, region_value):\n",
    "    target_projects = None\n",
    "    region_type, region_value = region_type.lower(), region_value.lower()\n",
    "    if region_type == 'continent':\n",
    "        target_projects = projects[projects['continent'].str.lower().isin([region_value])]\n",
    "    elif region_type == 'country':\n",
    "        target_projects = projects[projects['country'].str.lower().isin([region_value])]\n",
    "    elif region_type == 'undp_region':\n",
    "        target_projects = projects[projects['undp_region'].str.lower().isin([region_value])]\n",
    "    return target_projects"
   ]
  },
  {
   "cell_type": "code",
   "execution_count": 18,
   "id": "44f9205a-996b-4ef6-92ff-f1d13a01b8c4",
   "metadata": {},
   "outputs": [
    {
     "name": "stdout",
     "output_type": "stream",
     "text": [
      "['Africa']\n",
      "['Americas']\n",
      "['Panama']\n",
      "['RBLAC']\n"
     ]
    }
   ],
   "source": [
    "# test function\n",
    "print(get_project_per_region('continent', 'Africa')['continent'].unique())\n",
    "print(get_project_per_region('continent', 'americas')['continent'].unique())\n",
    "print(get_project_per_region('country', 'panama')['country'].unique())\n",
    "print(get_project_per_region('undp_region', 'rblac')['undp_region'].unique())"
   ]
  },
  {
   "cell_type": "markdown",
   "id": "b50e7c9c-a6e6-4f8b-8429-d99ddacd62fa",
   "metadata": {},
   "source": [
    "## 3. Create a function to get the 'output's of each 'project'"
   ]
  },
  {
   "cell_type": "code",
   "execution_count": 80,
   "id": "2629083e-8cbf-4ce5-aaf8-cb6659a74e06",
   "metadata": {},
   "outputs": [
    {
     "data": {
      "text/html": [
       "<div>\n",
       "<style scoped>\n",
       "    .dataframe tbody tr th:only-of-type {\n",
       "        vertical-align: middle;\n",
       "    }\n",
       "\n",
       "    .dataframe tbody tr th {\n",
       "        vertical-align: top;\n",
       "    }\n",
       "\n",
       "    .dataframe thead th {\n",
       "        text-align: right;\n",
       "    }\n",
       "</style>\n",
       "<table border=\"1\" class=\"dataframe\">\n",
       "  <thead>\n",
       "    <tr style=\"text-align: right;\">\n",
       "      <th></th>\n",
       "      <th>Project ID</th>\n",
       "      <th>Beneficiary Category</th>\n",
       "      <th>continent-region</th>\n",
       "      <th>Country Name</th>\n",
       "      <th>Region</th>\n",
       "      <th>Direct Beneficiaries</th>\n",
       "    </tr>\n",
       "  </thead>\n",
       "  <tbody>\n",
       "    <tr>\n",
       "      <th>0</th>\n",
       "      <td>117913</td>\n",
       "      <td>Clean Electricity</td>\n",
       "      <td>Africa</td>\n",
       "      <td>Togo</td>\n",
       "      <td>RBA</td>\n",
       "      <td>3697.5</td>\n",
       "    </tr>\n",
       "    <tr>\n",
       "      <th>1</th>\n",
       "      <td>117913</td>\n",
       "      <td>Other</td>\n",
       "      <td>Africa</td>\n",
       "      <td>Togo</td>\n",
       "      <td>RBA</td>\n",
       "      <td>0.0</td>\n",
       "    </tr>\n",
       "    <tr>\n",
       "      <th>2</th>\n",
       "      <td>117913</td>\n",
       "      <td>Other</td>\n",
       "      <td>Africa</td>\n",
       "      <td>Togo</td>\n",
       "      <td>RBA</td>\n",
       "      <td>0.0</td>\n",
       "    </tr>\n",
       "    <tr>\n",
       "      <th>3</th>\n",
       "      <td>134793</td>\n",
       "      <td>Clean Electricity</td>\n",
       "      <td>Africa</td>\n",
       "      <td>Togo</td>\n",
       "      <td>RBA</td>\n",
       "      <td>6525.0</td>\n",
       "    </tr>\n",
       "    <tr>\n",
       "      <th>4</th>\n",
       "      <td>134793</td>\n",
       "      <td>Other</td>\n",
       "      <td>Africa</td>\n",
       "      <td>Togo</td>\n",
       "      <td>RBA</td>\n",
       "      <td>0.0</td>\n",
       "    </tr>\n",
       "  </tbody>\n",
       "</table>\n",
       "</div>"
      ],
      "text/plain": [
       "  Project ID Beneficiary Category continent-region Country Name Region  \\\n",
       "0     117913    Clean Electricity           Africa         Togo    RBA   \n",
       "1     117913                Other           Africa         Togo    RBA   \n",
       "2     117913                Other           Africa         Togo    RBA   \n",
       "3     134793    Clean Electricity           Africa         Togo    RBA   \n",
       "4     134793                Other           Africa         Togo    RBA   \n",
       "\n",
       "   Direct Beneficiaries  \n",
       "0                3697.5  \n",
       "1                   0.0  \n",
       "2                   0.0  \n",
       "3                6525.0  \n",
       "4                   0.0  "
      ]
     },
     "execution_count": 80,
     "metadata": {},
     "output_type": "execute_result"
    }
   ],
   "source": [
    "outputs.head()"
   ]
  },
  {
   "cell_type": "code",
   "execution_count": 90,
   "id": "cfac21b1-7629-40c9-8752-fc9d86d3cdb3",
   "metadata": {},
   "outputs": [],
   "source": [
    "def get_output_per_project(project_ids):\n",
    "    return outputs[outputs['Project ID'].isin(project_ids)]"
   ]
  },
  {
   "cell_type": "code",
   "execution_count": 91,
   "id": "ad11a7d5-9dad-425f-9c9b-a7472838e8ee",
   "metadata": {},
   "outputs": [
    {
     "data": {
      "text/html": [
       "<div>\n",
       "<style scoped>\n",
       "    .dataframe tbody tr th:only-of-type {\n",
       "        vertical-align: middle;\n",
       "    }\n",
       "\n",
       "    .dataframe tbody tr th {\n",
       "        vertical-align: top;\n",
       "    }\n",
       "\n",
       "    .dataframe thead th {\n",
       "        text-align: right;\n",
       "    }\n",
       "</style>\n",
       "<table border=\"1\" class=\"dataframe\">\n",
       "  <thead>\n",
       "    <tr style=\"text-align: right;\">\n",
       "      <th></th>\n",
       "      <th>Project ID</th>\n",
       "      <th>Beneficiary Category</th>\n",
       "      <th>continent-region</th>\n",
       "      <th>Country Name</th>\n",
       "      <th>Region</th>\n",
       "      <th>Direct Beneficiaries</th>\n",
       "    </tr>\n",
       "  </thead>\n",
       "  <tbody>\n",
       "    <tr>\n",
       "      <th>9</th>\n",
       "      <td>6613</td>\n",
       "      <td>Agriculture and Food System</td>\n",
       "      <td>Africa</td>\n",
       "      <td>Zambia</td>\n",
       "      <td>RBA</td>\n",
       "      <td>4936.0</td>\n",
       "    </tr>\n",
       "    <tr>\n",
       "      <th>10</th>\n",
       "      <td>6613</td>\n",
       "      <td>Other</td>\n",
       "      <td>Africa</td>\n",
       "      <td>Zambia</td>\n",
       "      <td>RBA</td>\n",
       "      <td>0.0</td>\n",
       "    </tr>\n",
       "    <tr>\n",
       "      <th>11</th>\n",
       "      <td>6613</td>\n",
       "      <td>Clean Electricity</td>\n",
       "      <td>Africa</td>\n",
       "      <td>Zambia</td>\n",
       "      <td>RBA</td>\n",
       "      <td>0.0</td>\n",
       "    </tr>\n",
       "    <tr>\n",
       "      <th>12</th>\n",
       "      <td>missing-ZMB-1</td>\n",
       "      <td>Health Services</td>\n",
       "      <td>Africa</td>\n",
       "      <td>Zambia</td>\n",
       "      <td>RBA</td>\n",
       "      <td>810000.0</td>\n",
       "    </tr>\n",
       "    <tr>\n",
       "      <th>13</th>\n",
       "      <td>missing-ZMB-1</td>\n",
       "      <td>Other</td>\n",
       "      <td>Africa</td>\n",
       "      <td>Zambia</td>\n",
       "      <td>RBA</td>\n",
       "      <td>0.0</td>\n",
       "    </tr>\n",
       "    <tr>\n",
       "      <th>391</th>\n",
       "      <td>1061012</td>\n",
       "      <td>Other</td>\n",
       "      <td>Asia</td>\n",
       "      <td>Viet Nam</td>\n",
       "      <td>RBAP</td>\n",
       "      <td>0.0</td>\n",
       "    </tr>\n",
       "    <tr>\n",
       "      <th>392</th>\n",
       "      <td>1061012</td>\n",
       "      <td>Unknown</td>\n",
       "      <td>Asia</td>\n",
       "      <td>Viet Nam</td>\n",
       "      <td>RBAP</td>\n",
       "      <td>73500.0</td>\n",
       "    </tr>\n",
       "    <tr>\n",
       "      <th>393</th>\n",
       "      <td>1061012</td>\n",
       "      <td>Unknown</td>\n",
       "      <td>Asia</td>\n",
       "      <td>Viet Nam</td>\n",
       "      <td>RBAP</td>\n",
       "      <td>570.0</td>\n",
       "    </tr>\n",
       "    <tr>\n",
       "      <th>394</th>\n",
       "      <td>1061012</td>\n",
       "      <td>Other</td>\n",
       "      <td>Asia</td>\n",
       "      <td>Viet Nam</td>\n",
       "      <td>RBAP</td>\n",
       "      <td>0.0</td>\n",
       "    </tr>\n",
       "    <tr>\n",
       "      <th>395</th>\n",
       "      <td>1061012</td>\n",
       "      <td>Other</td>\n",
       "      <td>Asia</td>\n",
       "      <td>Viet Nam</td>\n",
       "      <td>RBAP</td>\n",
       "      <td>0.0</td>\n",
       "    </tr>\n",
       "    <tr>\n",
       "      <th>396</th>\n",
       "      <td>1061012</td>\n",
       "      <td>Other</td>\n",
       "      <td>Asia</td>\n",
       "      <td>Viet Nam</td>\n",
       "      <td>RBAP</td>\n",
       "      <td>400.0</td>\n",
       "    </tr>\n",
       "  </tbody>\n",
       "</table>\n",
       "</div>"
      ],
      "text/plain": [
       "        Project ID         Beneficiary Category continent-region Country Name  \\\n",
       "9             6613  Agriculture and Food System           Africa       Zambia   \n",
       "10            6613                        Other           Africa       Zambia   \n",
       "11            6613            Clean Electricity           Africa       Zambia   \n",
       "12   missing-ZMB-1              Health Services           Africa       Zambia   \n",
       "13   missing-ZMB-1                        Other           Africa       Zambia   \n",
       "391        1061012                        Other             Asia     Viet Nam   \n",
       "392        1061012                      Unknown             Asia     Viet Nam   \n",
       "393        1061012                      Unknown             Asia     Viet Nam   \n",
       "394        1061012                        Other             Asia     Viet Nam   \n",
       "395        1061012                        Other             Asia     Viet Nam   \n",
       "396        1061012                        Other             Asia     Viet Nam   \n",
       "\n",
       "    Region  Direct Beneficiaries  \n",
       "9      RBA                4936.0  \n",
       "10     RBA                   0.0  \n",
       "11     RBA                   0.0  \n",
       "12     RBA              810000.0  \n",
       "13     RBA                   0.0  \n",
       "391   RBAP                   0.0  \n",
       "392   RBAP               73500.0  \n",
       "393   RBAP                 570.0  \n",
       "394   RBAP                   0.0  \n",
       "395   RBAP                   0.0  \n",
       "396   RBAP                 400.0  "
      ]
     },
     "execution_count": 91,
     "metadata": {},
     "output_type": "execute_result"
    }
   ],
   "source": [
    "# test function\n",
    "project_ids = ['6613', 'missing-ZMB-1', '1061012', '0']\n",
    "get_output_per_project(project_ids)"
   ]
  },
  {
   "cell_type": "markdown",
   "id": "c89be538-9818-492a-91c4-b847c4546c59",
   "metadata": {},
   "source": [
    "## 4. Create a function to call the OpenAI API and generate a summary for the UNDP portfolio for each country using a suitable prompt.\n",
    "\n",
    "Example Outputs\n",
    "\n",
    "RBAP (regional bureau of asia pacific):\n",
    "\n",
    "The UNDP portfolio of energy-related projects in RBAP includes 83 projects across 23 countries during the 2022-2025 Strategic Plan. The total budget of these projects is 422 million USD. The total direct beneficiaries target by these projects include 16.3 million people. This include 7.8 million from VF projects and 8.5 from Non-VF. 4.3 million of these beneficiaries are from productive use of energy, which includes 1.7 million from health services, 1.2 million from energy infrastructures services, and 400,000 from agricultural and food systems. Many projects also include outputs related to support to policy or regulatory frameworks or other system benefits that provide indirect benefits.\n",
    "\n",
    "RBA (Africa):\n",
    "\n",
    "The UNDP portfolio in RBA during the period of 2022-2025 Strategic Plan includes 112 energy-related projects active across 41 countries. The total budget of these projects is 1.44 billion USD. The direct beneficiaries targeted by these projects include 54.9 million people. This includes 6.5 million from VF projects and 48.4 million from Non-VF. Indirect beneficiaries are supported through support to policy or regulatory frameworks, clean energy or efficiency campaigns, or other system changes that provide indirect benefits.\n",
    " \n",
    "Of those directly benefiting, 17.1 million of these beneficiaries include direct access to clean electricity. Many other of the 54.9M direct beneficiaries benefit from productive uses of energy including 19.2 million from health services, 12.1 million from water services, 1.0 million from clean cooking, and 10 million additional beneficiaries from other categories including energy infrastructure services, transportation and e-mobility, renewable energy for waste management, and market development.\n",
    "\n",
    "RBEC:\n",
    "\n",
    "The UNDP portfolio of energy-related projects in RBEC includes 63 projects across 18 countries during the 2022-2025 Strategic Plan. The total budget of these projects is 427 million USD. The total direct beneficiaries target by these projects include 7.1 million people. This include 1.4 million from VF projects and 5.7 million from Non-VF. 4.0 million of these beneficiaries are from access to electricity and the other 3.1 million include beneficiaries from market development, energy infrastructure services, transportation and e-mobility, renewable energy for waste management, and other productive uses of energy. Many projects also include outputs related to support to policy or regulatory frameworks, clean energy or efficiency campaigns, or other system changes that provide indirect benefits."
   ]
  },
  {
   "cell_type": "code",
   "execution_count": 111,
   "id": "4f0e6242-53d2-4121-bbb3-4517b103d926",
   "metadata": {},
   "outputs": [
    {
     "name": "stdout",
     "output_type": "stream",
     "text": [
      "continent values: ['Africa' 'Americas' 'Oceania' 'Asia' 'Europe' None]\n",
      "country values: ['Togo' 'Panama' 'Zambia' 'Malawi' 'South Africa' 'Samoa' 'Lebanon'\n",
      " 'Brazil' 'Jamaica' 'Algeria' 'Yemen' 'Belize' 'Iran' 'Colombia' 'Comoros'\n",
      " 'Azerbaijan' 'Moldova Republic' 'Congo' 'Jordan' 'Dominican Republic'\n",
      " 'Sierra Leone' 'Saudi Arabia' 'Senegal' 'Suriname' 'Gambia' 'Uganda'\n",
      " 'Mexico' 'Botswana' 'Guyana' 'Ethiopia' 'Belarus' 'Bahrain'\n",
      " 'Papua New Guinea' 'Madagascar' 'Venezuela' 'Lesotho' 'Zimbabwe'\n",
      " 'Ecuador' 'Morocco' 'Pakistan' None 'Sri Lanka'\n",
      " 'Central African Republic' 'Albania' 'South Sudan' 'Ukraine'\n",
      " 'Dem. Rep. of the Congo' 'Guinea' 'Libya' 'China' 'Maldives'\n",
      " 'Bosnia and Herzegovina' 'Paraguay' 'Burkina Faso' 'El Salvador'\n",
      " 'Sao Tome & Principe' 'Viet Nam' 'Bhutan' 'Turkmenistan'\n",
      " 'Solomon Islands' 'Barbados' 'Turkey' 'Burundi' 'Fiji' 'Uzbekistan'\n",
      " 'Eswatini' 'Kosovo' 'Rwanda' 'Indonesia' 'Mauritius' 'North Macedonia'\n",
      " 'Equatorial Guinea' 'Armenia' 'Cameroon, Republic of' 'Namibia' 'Chad'\n",
      " 'Cambodia' 'Tunisia' 'Niger' 'Sudan' 'Cuba' 'Benin' 'Kenya' 'Syria'\n",
      " 'Mozambique' 'Costa Rica' 'Lao PDR' 'Timor-Leste'\n",
      " 'United Republic of Tanzania' 'Serbia' 'Afghanistan' 'Kyrgyzstan' 'Haiti'\n",
      " 'Prog for Palestinian People' 'Iraq' 'Philippines' 'Somalia' 'India'\n",
      " 'Mali' \"Cote d'Ivoire\" 'Angola' 'Mongolia' 'Thailand' 'Peru' 'Tajikistan'\n",
      " 'Nigeria' 'Georgia' 'Djibouti' 'Trinidad & Tobago' 'Bangladesh' 'Myanmar'\n",
      " 'Argentina' 'Kazakhstan' 'Malaysia' 'Guinea-Bissau' 'Montenegro' 'Egypt'\n",
      " 'Mauritania']\n",
      "undp region values: ['RBA' 'RBLAC' 'RBAP' 'RBAS' 'RBEC' None]\n"
     ]
    }
   ],
   "source": [
    "# continent-region':'continent', 'Country Name': 'country','Region': 'undp_region'\n",
    "continent_vals = projects['continent'].unique()\n",
    "country_vals = projects['country'].unique()\n",
    "undp_region_vals = projects['undp_region'].unique()\n",
    "\n",
    "print(f\"continent values: {continent_vals}\")\n",
    "print(f\"country values: {country_vals}\")\n",
    "print(f\"undp region values: {undp_region_vals}\")"
   ]
  },
  {
   "cell_type": "markdown",
   "id": "60270ccf-7fc2-439a-b562-f0036ebf9f93",
   "metadata": {},
   "source": [
    "Few approaches I'm thinking\n",
    "\n",
    "1. Use PandasAI or LangChain to analyze the target DataFrame and provide the results to GPT for text summarization.\n",
    "2. Convert the DataFrame to a string, give the raw data to GPT for analysis, and request a text summarization."
   ]
  },
  {
   "cell_type": "markdown",
   "id": "97c7b60d-9809-459b-89e1-eb1418c25944",
   "metadata": {},
   "source": [
    "1. if input is continent/undp_region\n",
    "   info we need:\n",
    "   - num of country\n",
    "   - total budget\n",
    "   - direct beneficiaries.\n",
    "   - direct beneficiaries for VF project and Non-VF project\n",
    "   - direct beneficiaries by Beneficiary Category\n",
    "2. if input is country\n",
    "    - total budget\n",
    "   - direct beneficiaries.\n",
    "   - direct beneficiaries for VF project and Non-VF project\n",
    "   - direct beneficiaries by Beneficiary Category\n",
    "\n",
    "Calculate each info mannually and ask chatGPT to make summary based on mannually calculated value"
   ]
  },
  {
   "cell_type": "code",
   "execution_count": 65,
   "id": "c68e090a-4260-48c9-9770-230229134416",
   "metadata": {},
   "outputs": [],
   "source": [
    "continent_dict = set(['Africa', 'Americas','Oceania', 'Asia', 'Europe'])\n",
    "country_dict = set(['Togo', 'Panama', 'Zambia', 'Malawi', 'South Africa', 'Samoa', 'Lebanon', 'Brazil', 'Jamaica', 'Algeria', 'Yemen', 'Belize', 'Iran', 'Colombia', 'Comoros', \n",
    "                    'Azerbaijan', 'Moldova Republic', 'Congo', 'Jordan', 'Dominican Republic', 'Sierra Leone', 'Saudi Arabia', 'Senegal', 'Suriname', 'Gambia', 'Uganda', 'Mexico',\n",
    "                    'Botswana', 'Guyana', 'Ethiopia', 'Belarus', 'Bahrain', 'Papua New Guinea', 'Madagascar', 'Venezuela', 'Lesotho', 'Zimbabwe', 'Ecuador', 'Morocco', 'Pakistan',\n",
    "                    'Sri Lanka', 'Central African Republic', 'Albania', 'South Sudan', 'Ukraine', 'Dem. Rep. of the Congo', 'Guinea', 'Libya', 'China', 'Maldives', \n",
    "                    'Bosnia and Herzegovina', 'Paraguay', 'Burkina Faso', 'El Salvador', 'Sao Tome & Principe', 'Viet Nam', 'Bhutan', 'Turkmenistan', 'Solomon Islands',\n",
    "                    'Barbados', 'Turkey', 'Burundi', 'Fiji', 'Uzbekistan', 'Eswatini', 'Kosovo', 'Rwanda', 'Indonesia', 'Mauritius', 'North Macedonia', 'Equatorial Guinea',\n",
    "                    'Armenia', 'Cameroon, Republic of', 'Namibia', 'Chad', 'Cambodia', 'Tunisia', 'Niger', 'Sudan', 'Cuba', 'Benin', 'Kenya', 'Syria', 'Mozambique', 'Costa Rica',\n",
    "                    'Lao PDR', 'Timor-Leste', 'United Republic of Tanzania', 'Serbia', 'Afghanistan', 'Kyrgyzstan', 'Haiti', 'Prog for Palestinian People', 'Iraq', 'Philippines',\n",
    "                    'Somalia', 'India', 'Mali', \"Cote d'Ivoire\", 'Angola', 'Mongolia', 'Thailand', 'Peru', 'Tajikistan', 'Nigeria', 'Georgia', 'Djibouti', 'Trinidad & Tobago',\n",
    "                    'Bangladesh', 'Myanmar', 'Argentina', 'Kazakhstan', 'Malaysia', 'Guinea-Bissau', 'Montenegro', 'Egypt', 'Mauritania'])\n",
    "undp_region_dict = set(['RBA', 'RBLAC', 'RBAP', 'RBAS', 'RBEC'])"
   ]
  },
  {
   "cell_type": "markdown",
   "id": "c2f1cdf5-7924-4aea-98df-9ef4efff9f23",
   "metadata": {},
   "source": [
    "Example Outputs\n",
    "\n",
    "RBAP (regional bureau of asia pacific):\n",
    "\n",
    "The UNDP portfolio of energy-related projects in RBAP includes 83 projects across 23 countries during the 2022-2025 Strategic Plan. The total budget of these projects is 422 million USD. The total direct beneficiaries target by these projects include 16.3 million people. This include 7.8 million from VF projects and 8.5 from Non-VF. 4.3 million of these beneficiaries are from productive use of energy, which includes 1.7 million from health services, 1.2 million from energy infrastructures services, and 400,000 from agricultural and food systems. Many projects also include outputs related to support to policy or regulatory frameworks or other system benefits that provide indirect benefits."
   ]
  },
  {
   "cell_type": "code",
   "execution_count": 120,
   "id": "49f7cbd0-b4f1-4c54-950b-3e8b1eda81e5",
   "metadata": {},
   "outputs": [],
   "source": [
    "def text_summary_gen(user_input):\n",
    "    region_type, region_value = get_project_region_type(user_input), user_input\n",
    "    # ['Project ID', 'Project Title', 'Budget', 'VF or Non-VF', 'Output Count', 'Direct Beneficiaries']\n",
    "    projects = get_project_per_region(region_type, region_value)\n",
    "    project_ids = projects['Project ID']\n",
    "    # ['Project ID', 'Beneficiary Category', 'continent-region', 'Country Name', 'Region', 'Direct Beneficiaries']\n",
    "    outputs = get_output_per_project(project_ids)\n",
    "\n",
    "    total_projects = len(projects)\n",
    "    total_budget = projects['Budget'].sum()\n",
    "    direct_beneficiaries = projects['Direct Beneficiaries'].sum()\n",
    "    direct_beneficiaries_VF = projects[projects['VF or Non-VF'] == 'VF']['Direct Beneficiaries'].sum()\n",
    "    direct_beneficiaries_non_VF = projects[projects['VF or Non-VF'] == 'Non-VF']['Direct Beneficiaries'].sum()\n",
    "    beneficiary_category = outputs['Beneficiary Category'].unique()\n",
    "    direct_beneficiaries_by_categories = defaultdict(int)\n",
    "\n",
    "    for category in beneficiary_category:\n",
    "        if category:\n",
    "            direct_beneficiaries_by_categories[category] = outputs[outputs['Beneficiary Category'] == category]['Direct Beneficiaries'].sum()\n",
    "\n",
    "    if region_type == 'country':\n",
    "        portfolio_stat_info = {\n",
    "            'total_projects': total_projects,\n",
    "            'total_budget': total_budget,\n",
    "            'direct_beneficiaries': direct_beneficiaries,\n",
    "            'direct_beneficiaries_VF': direct_beneficiaries_VF,\n",
    "            'direct_beneficiaries_non_VF': direct_beneficiaries_non_VF,\n",
    "            'direct_beneficiaries_by_categories': json.dumps(direct_beneficiaries_by_categories)\n",
    "        }\n",
    "    else:\n",
    "        num_of_countries = projects.country.nunique()\n",
    "        portfolio_stat_info = {\n",
    "            'total_projects': total_projects,\n",
    "            'num_of_countries': num_of_countries,\n",
    "            'total_budget': total_budget,\n",
    "            'direct_beneficiaries': direct_beneficiaries,\n",
    "            'direct_beneficiaries_VF': direct_beneficiaries_VF,\n",
    "            'direct_beneficiaries_non_VF': direct_beneficiaries_non_VF,\n",
    "            'direct_beneficiaries_by_categories': json.dumps(direct_beneficiaries_by_categories)\n",
    "        }\n",
    "        \n",
    "    llm_prompt = f'''\n",
    "    This is statistical information regarding the UNDP's project portfolio within the {region_value} area for the 2022-2025 Strategic Plan. Please generate a text summary based on this data.\n",
    "    Here's an example of the desired summary:\n",
    "    \n",
    "    The UNDP portfolio of energy-related projects in RBAP includes 83 projects across 23 countries during the 2022-2025 Strategic Plan. \n",
    "    The total budget of these projects is 422 million USD. The total direct beneficiaries target by these projects include 16.3 million people. \n",
    "    This include 7.8 million from VF projects and 8.5 from Non-VF. 4.3 million of these beneficiaries are from productive use of energy, \n",
    "    which includes 1.7 million from health services, 1.2 million from energy infrastructures services, and 400,000 from agricultural and food systems. \n",
    "    Many projects also include outputs related to support to policy or regulatory frameworks or other system benefits that provide indirect benefits.\n",
    "    \n",
    "    Here's the provided statistical information: {portfolio_stat_info}\n",
    "\n",
    "    '''\n",
    "\n",
    "    answer = callOpenAI(llm_prompt)\n",
    "    return answer"
   ]
  },
  {
   "cell_type": "code",
   "execution_count": 122,
   "id": "c8d4d894-cf53-4ce6-8004-508643e31663",
   "metadata": {},
   "outputs": [
    {
     "data": {
      "text/plain": [
       "\"The UNDP's project portfolio within the RBA area for the 2022-2025 Strategic Plan consists of a total of 112 projects across 41 countries. These projects have a combined budget of approximately 1.44 billion USD. \\n\\nThe projects aim to directly benefit a total of 61.6 million people. Out of these beneficiaries, 6.5 million are targeted by projects classified as VF (Vulnerable Focus), while 55.1 million are targeted by projects classified as non-VF. \\n\\nThe direct beneficiaries can be further categorized based on the type of benefits they receive. Around 15.8 million people are expected to benefit from projects related to clean electricity, while 19.4 million people will benefit from health services. Additionally, 12.1 million people will benefit from water services, and 1.4 million people will benefit from clean cooking initiatives. \\n\\nIt is important to note that some projects also aim to provide indirect benefits through support to policy or regulatory frameworks, as well as other system benefits. \\n\\nOverall, the UNDP's project portfolio in the RBA area for the 2022-2025 Strategic Plan demonstrates a significant investment in energy-related projects, with a focus on improving access to clean electricity, health services, water services, and clean cooking solutions.\""
      ]
     },
     "execution_count": 122,
     "metadata": {},
     "output_type": "execute_result"
    }
   ],
   "source": [
    "text_summary_gen('RBA')"
   ]
  },
  {
   "cell_type": "code",
   "execution_count": null,
   "id": "6b209546-d2d2-4a63-88fe-260258358595",
   "metadata": {},
   "outputs": [],
   "source": []
  }
 ],
 "metadata": {
  "kernelspec": {
   "display_name": "Python 3 (ipykernel)",
   "language": "python",
   "name": "python3"
  },
  "language_info": {
   "codemirror_mode": {
    "name": "ipython",
    "version": 3
   },
   "file_extension": ".py",
   "mimetype": "text/x-python",
   "name": "python",
   "nbconvert_exporter": "python",
   "pygments_lexer": "ipython3",
   "version": "3.11.5"
  }
 },
 "nbformat": 4,
 "nbformat_minor": 5
}
