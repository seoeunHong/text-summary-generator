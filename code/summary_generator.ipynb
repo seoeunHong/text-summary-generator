{
 "cells": [
  {
   "cell_type": "markdown",
   "id": "069a6711-89f8-4920-abe0-98e16cfe05b4",
   "metadata": {},
   "source": [
    "# Import Dependencies"
   ]
  },
  {
   "cell_type": "code",
   "execution_count": 1,
   "id": "8fc5f4d9-5ecf-4512-be35-796960bebe5a",
   "metadata": {},
   "outputs": [],
   "source": [
    "import numpy as np\n",
    "import pandas as pd"
   ]
  },
  {
   "cell_type": "markdown",
   "id": "c550a477-c21a-4bc8-b43c-388227ad0eb9",
   "metadata": {},
   "source": [
    "# Convert Multiple Excel sheets to CSV"
   ]
  },
  {
   "cell_type": "code",
   "execution_count": 5,
   "id": "05149176-9d15-47aa-8fe9-32635cdc609d",
   "metadata": {},
   "outputs": [],
   "source": [
    "excel_file = '../data/Moonshot Tracker Results - Auto.xlsx'\n",
    "all_sheets = pd.read_excel(excel_file, sheet_name=None)\n",
    "sheets = all_sheets.keys()\n",
    "\n",
    "for sheet_name in sheets:\n",
    "    sheet = pd.read_excel(excel_file, sheet_name=sheet_name)\n",
    "    sheet.to_csv(f\"../data/{sheet_name}.csv\", index=False)"
   ]
  },
  {
   "cell_type": "code",
   "execution_count": 6,
   "id": "6d8b664d-7df3-4acf-9288-ef17340db263",
   "metadata": {},
   "outputs": [],
   "source": [
    "projects = pd.read_csv(\"../data/Projects.csv\")\n",
    "outputs = pd.read_csv(\"../data/Outputs.csv\")"
   ]
  },
  {
   "cell_type": "markdown",
   "id": "98b7e3c4-5628-4b19-95bd-292c47bc4223",
   "metadata": {},
   "source": [
    "# Data Relationship"
   ]
  },
  {
   "cell_type": "markdown",
   "id": "f0d8b883-ffb5-4d0f-84cf-c72dcd2d5c2b",
   "metadata": {},
   "source": [
    "![image info](../data/data_relationship.jpeg)"
   ]
  },
  {
   "cell_type": "code",
   "execution_count": 12,
   "id": "d0f5933b-5571-4360-9248-37e2b7d7756b",
   "metadata": {},
   "outputs": [
    {
     "data": {
      "text/plain": [
       "Index(['Project ID', 'Project Title', 'Budget', 'Country', 'Country Code',\n",
       "       'Link', 'Donors', 'VF or Non-VF', 'Output Count',\n",
       "       'Direct Beneficiaries', 'GHG Emissions Reduction', 'description',\n",
       "       'sdgs', 'solution', 'Gender Marker'],\n",
       "      dtype='object')"
      ]
     },
     "execution_count": 12,
     "metadata": {},
     "output_type": "execute_result"
    }
   ],
   "source": [
    "projects.columns"
   ]
  },
  {
   "cell_type": "code",
   "execution_count": 16,
   "id": "3388402a-a19c-4f55-8a62-d3a3fe912eb9",
   "metadata": {},
   "outputs": [],
   "source": [
    "project_target_column  = ['Project ID', 'Project Title', 'Budget', 'Country', 'Donors', 'VF or Non-VF', 'Output Count',\n",
    "       'Direct Beneficiaries', 'description']"
   ]
  },
  {
   "cell_type": "code",
   "execution_count": 17,
   "id": "7ab693bf-e0ac-4ba1-ac59-38a06a4bd1e7",
   "metadata": {},
   "outputs": [],
   "source": [
    "projects = projects[project_target_column]"
   ]
  },
  {
   "cell_type": "code",
   "execution_count": 18,
   "id": "f74ceea7-62c5-40e6-97ca-9b2e4de4cfa7",
   "metadata": {
    "scrolled": true
   },
   "outputs": [
    {
     "data": {
      "text/plain": [
       "Index(['Project ID', 'Title', 'Link', 'Budget', 'Beneficiary Category',\n",
       "       'Indicator', 'Baseline', 'Target', 'Notes', 'Donors',\n",
       "       'Gender (% female)', 'VF or Non-VF', 'Tag', 'SEH Taxonomy',\n",
       "       'RISE Taxonomy', 'Flagship', 'Technology', 'Output ID', 'Country Code',\n",
       "       'Category', 'name 2', 'm49', 'continent-region', 'sub-region',\n",
       "       'sids-region', 'un-member', 'undp-sids', 'un-region', 'Country Name',\n",
       "       'Region', 'Economy', 'LDC', 'SIDS', 'LLDC', 'HDI', 'Status',\n",
       "       'Direct Conversion Factor', 'Direct Beneficiaries', 'Output Category',\n",
       "       'Beneficiary Category Pre', 'Description'],\n",
       "      dtype='object')"
      ]
     },
     "execution_count": 18,
     "metadata": {},
     "output_type": "execute_result"
    }
   ],
   "source": [
    "outputs.columns"
   ]
  },
  {
   "cell_type": "code",
   "execution_count": 20,
   "id": "2d1086e3-46b6-47f8-9c47-d810b86cede8",
   "metadata": {},
   "outputs": [],
   "source": [
    "outputs_target_column  = ['Project ID', 'Title','Beneficiary Category','Gender (% female)', 'continent-region', 'Country Name',\n",
    "       'Region', 'Direct Beneficiaries', 'Output Category', 'Description']"
   ]
  },
  {
   "cell_type": "code",
   "execution_count": 21,
   "id": "9ae11f23-23ed-4d97-835a-76f5b608c7d0",
   "metadata": {},
   "outputs": [],
   "source": [
    "outputs = outputs[outputs_target_column]"
   ]
  },
  {
   "cell_type": "markdown",
   "id": "49e067d6-843a-4c05-bf56-4cd3643d6ffd",
   "metadata": {},
   "source": [
    "# Functions for Extracting Information\n",
    "Our Goal: Generate text summaries of the UNDP portfolio for each country\n",
    "\n",
    "Approach: \n",
    "1. Assign 'continent-region', 'Country Name', and 'Region' to the project dataframe.\n",
    "2. Create a function to get each 'project' for the specified 'continent-region', 'Country Name', or 'Region'.\n",
    "3. Create a function to get the 'output's of each 'project'.\n",
    "4. Create a function to call the OpenAI API and generate a summary for the UNDP portfolio for each country using a suitable prompt."
   ]
  },
  {
   "cell_type": "markdown",
   "id": "9db9192b-f72f-49b5-9588-0504d1f703d9",
   "metadata": {},
   "source": []
  },
  {
   "cell_type": "code",
   "execution_count": null,
   "id": "a5ed99e7-40fb-42fe-af9e-f4be1f76fdc8",
   "metadata": {},
   "outputs": [],
   "source": []
  }
 ],
 "metadata": {
  "kernelspec": {
   "display_name": "Python 3 (ipykernel)",
   "language": "python",
   "name": "python3"
  },
  "language_info": {
   "codemirror_mode": {
    "name": "ipython",
    "version": 3
   },
   "file_extension": ".py",
   "mimetype": "text/x-python",
   "name": "python",
   "nbconvert_exporter": "python",
   "pygments_lexer": "ipython3",
   "version": "3.11.5"
  }
 },
 "nbformat": 4,
 "nbformat_minor": 5
}
