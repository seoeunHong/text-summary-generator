{
 "cells": [
  {
   "cell_type": "markdown",
   "id": "069a6711-89f8-4920-abe0-98e16cfe05b4",
   "metadata": {},
   "source": [
    "# Import Dependencies"
   ]
  },
  {
   "cell_type": "code",
   "execution_count": 48,
   "id": "8fc5f4d9-5ecf-4512-be35-796960bebe5a",
   "metadata": {},
   "outputs": [],
   "source": [
    "import numpy as np\n",
    "import pandas as pd"
   ]
  },
  {
   "cell_type": "markdown",
   "id": "c550a477-c21a-4bc8-b43c-388227ad0eb9",
   "metadata": {},
   "source": [
    "# Convert Multiple Excel sheets to CSV"
   ]
  },
  {
   "cell_type": "code",
   "execution_count": 49,
   "id": "05149176-9d15-47aa-8fe9-32635cdc609d",
   "metadata": {},
   "outputs": [],
   "source": [
    "excel_file = '../data/Moonshot Tracker Results - Auto.xlsx'\n",
    "all_sheets = pd.read_excel(excel_file, sheet_name=None)\n",
    "sheets = all_sheets.keys()\n",
    "\n",
    "for sheet_name in sheets:\n",
    "    sheet = pd.read_excel(excel_file, sheet_name=sheet_name)\n",
    "    sheet.to_csv(f\"../data/{sheet_name}.csv\", index=False)"
   ]
  },
  {
   "cell_type": "code",
   "execution_count": 50,
   "id": "6d8b664d-7df3-4acf-9288-ef17340db263",
   "metadata": {},
   "outputs": [],
   "source": [
    "projects_raw = pd.read_csv(\"../data/Projects.csv\")\n",
    "outputs = pd.read_csv(\"../data/Outputs.csv\")"
   ]
  },
  {
   "cell_type": "markdown",
   "id": "98b7e3c4-5628-4b19-95bd-292c47bc4223",
   "metadata": {},
   "source": [
    "# Data Relationship"
   ]
  },
  {
   "cell_type": "markdown",
   "id": "f0d8b883-ffb5-4d0f-84cf-c72dcd2d5c2b",
   "metadata": {},
   "source": [
    "![image info](../data/data_relationship.jpeg)"
   ]
  },
  {
   "cell_type": "code",
   "execution_count": 51,
   "id": "d0f5933b-5571-4360-9248-37e2b7d7756b",
   "metadata": {},
   "outputs": [
    {
     "data": {
      "text/plain": [
       "Index(['Project ID', 'Project Title', 'Budget', 'Country', 'Country Code',\n",
       "       'Link', 'Donors', 'VF or Non-VF', 'Output Count',\n",
       "       'Direct Beneficiaries', 'GHG Emissions Reduction', 'description',\n",
       "       'sdgs', 'solution', 'Gender Marker'],\n",
       "      dtype='object')"
      ]
     },
     "execution_count": 51,
     "metadata": {},
     "output_type": "execute_result"
    }
   ],
   "source": [
    "projects_raw.columns"
   ]
  },
  {
   "cell_type": "code",
   "execution_count": 52,
   "id": "3388402a-a19c-4f55-8a62-d3a3fe912eb9",
   "metadata": {},
   "outputs": [],
   "source": [
    "project_target_column  = ['Project ID', 'Project Title', 'Budget', 'Donors', 'VF or Non-VF', 'Output Count',\n",
    "       'Direct Beneficiaries', 'description']"
   ]
  },
  {
   "cell_type": "code",
   "execution_count": 53,
   "id": "7ab693bf-e0ac-4ba1-ac59-38a06a4bd1e7",
   "metadata": {},
   "outputs": [],
   "source": [
    "projects_raw = projects_raw[project_target_column]"
   ]
  },
  {
   "cell_type": "code",
   "execution_count": 54,
   "id": "f74ceea7-62c5-40e6-97ca-9b2e4de4cfa7",
   "metadata": {
    "scrolled": true
   },
   "outputs": [
    {
     "data": {
      "text/plain": [
       "Index(['Project ID', 'Title', 'Link', 'Budget', 'Beneficiary Category',\n",
       "       'Indicator', 'Baseline', 'Target', 'Notes', 'Donors',\n",
       "       'Gender (% female)', 'VF or Non-VF', 'Tag', 'SEH Taxonomy',\n",
       "       'RISE Taxonomy', 'Flagship', 'Technology', 'Output ID', 'Country Code',\n",
       "       'Category', 'name 2', 'm49', 'continent-region', 'sub-region',\n",
       "       'sids-region', 'un-member', 'undp-sids', 'un-region', 'Country Name',\n",
       "       'Region', 'Economy', 'LDC', 'SIDS', 'LLDC', 'HDI', 'Status',\n",
       "       'Direct Conversion Factor', 'Direct Beneficiaries', 'Output Category',\n",
       "       'Beneficiary Category Pre', 'Description'],\n",
       "      dtype='object')"
      ]
     },
     "execution_count": 54,
     "metadata": {},
     "output_type": "execute_result"
    }
   ],
   "source": [
    "outputs.columns"
   ]
  },
  {
   "cell_type": "code",
   "execution_count": 55,
   "id": "2d1086e3-46b6-47f8-9c47-d810b86cede8",
   "metadata": {},
   "outputs": [],
   "source": [
    "outputs_target_column  = ['Project ID', 'Title','Beneficiary Category','Gender (% female)', 'continent-region', 'Country Name',\n",
    "       'Region', 'Direct Beneficiaries', 'Output Category', 'Description']"
   ]
  },
  {
   "cell_type": "code",
   "execution_count": 56,
   "id": "9ae11f23-23ed-4d97-835a-76f5b608c7d0",
   "metadata": {},
   "outputs": [],
   "source": [
    "outputs = outputs[outputs_target_column]"
   ]
  },
  {
   "cell_type": "markdown",
   "id": "49e067d6-843a-4c05-bf56-4cd3643d6ffd",
   "metadata": {},
   "source": [
    "# Functions for Extracting Information\n",
    "Our Goal: Generate text summaries of the UNDP portfolio for each country\n",
    "\n",
    "Approach: \n",
    "1. Assign 'continent-region', 'Country Name', and 'Region' to the project dataframe.\n",
    "2. Create a function to get each 'project' for the specified 'continent-region', 'Country Name', or 'Region'.\n",
    "3. Create a function to get the 'output's of each 'project'.\n",
    "4. Create a function to call the OpenAI API and generate a summary for the UNDP portfolio for each country using a suitable prompt."
   ]
  },
  {
   "cell_type": "markdown",
   "id": "91e27574-e7f9-4eec-8014-4c58f71592a7",
   "metadata": {},
   "source": [
    "## 1. Assign 'continent-region', 'Country Name', and 'Region' to the project dataframe."
   ]
  },
  {
   "cell_type": "code",
   "execution_count": 57,
   "id": "a5ed99e7-40fb-42fe-af9e-f4be1f76fdc8",
   "metadata": {},
   "outputs": [],
   "source": [
    "output_country = outputs[['Project ID', 'continent-region', 'Country Name','Region']]"
   ]
  },
  {
   "cell_type": "code",
   "execution_count": 58,
   "id": "a6ab560b-a576-4452-94ab-c263eacaa05e",
   "metadata": {},
   "outputs": [],
   "source": [
    "output_country = output_country.drop_duplicates().reset_index(drop=True)"
   ]
  },
  {
   "cell_type": "code",
   "execution_count": 61,
   "id": "e985309c-16af-465e-b9f0-89328bcc0812",
   "metadata": {},
   "outputs": [],
   "source": [
    "projects = pd.merge(projects_raw, output_country, on = 'Project ID')"
   ]
  },
  {
   "cell_type": "code",
   "execution_count": 63,
   "id": "e729f911-3e59-4d27-9c1b-366f6cb42d6a",
   "metadata": {},
   "outputs": [
    {
     "data": {
      "text/html": [
       "<div>\n",
       "<style scoped>\n",
       "    .dataframe tbody tr th:only-of-type {\n",
       "        vertical-align: middle;\n",
       "    }\n",
       "\n",
       "    .dataframe tbody tr th {\n",
       "        vertical-align: top;\n",
       "    }\n",
       "\n",
       "    .dataframe thead th {\n",
       "        text-align: right;\n",
       "    }\n",
       "</style>\n",
       "<table border=\"1\" class=\"dataframe\">\n",
       "  <thead>\n",
       "    <tr style=\"text-align: right;\">\n",
       "      <th></th>\n",
       "      <th>Project ID</th>\n",
       "      <th>Project Title</th>\n",
       "      <th>Budget</th>\n",
       "      <th>Donors</th>\n",
       "      <th>VF or Non-VF</th>\n",
       "      <th>Output Count</th>\n",
       "      <th>Direct Beneficiaries</th>\n",
       "      <th>description</th>\n",
       "      <th>continent-region</th>\n",
       "      <th>Country Name</th>\n",
       "      <th>Region</th>\n",
       "    </tr>\n",
       "  </thead>\n",
       "  <tbody>\n",
       "    <tr>\n",
       "      <th>0</th>\n",
       "      <td>117913</td>\n",
       "      <td>Résilience des communautés et des écosystèmes</td>\n",
       "      <td>3459600.0</td>\n",
       "      <td>['UNITED NATIONS DEVELOPMENT PRO']</td>\n",
       "      <td>Non-VF</td>\n",
       "      <td>3</td>\n",
       "      <td>3697.5</td>\n",
       "      <td>Il s’agit de la promotion du développement Loc...</td>\n",
       "      <td>Africa</td>\n",
       "      <td>Togo</td>\n",
       "      <td>RBA</td>\n",
       "    </tr>\n",
       "    <tr>\n",
       "      <th>1</th>\n",
       "      <td>134793</td>\n",
       "      <td>Accès aux énergies renouvelables en milieu rur...</td>\n",
       "      <td>1431552.0</td>\n",
       "      <td>['UNITED NATIONS DEVELOPMENT PRO']</td>\n",
       "      <td>Non-VF</td>\n",
       "      <td>3</td>\n",
       "      <td>31525.0</td>\n",
       "      <td>Accélération de l’accès aux énergies renouvela...</td>\n",
       "      <td>Africa</td>\n",
       "      <td>Togo</td>\n",
       "      <td>RBA</td>\n",
       "    </tr>\n",
       "    <tr>\n",
       "      <th>2</th>\n",
       "      <td>91204</td>\n",
       "      <td>Apoyo a la Modernización de La Gestión Ambiental</td>\n",
       "      <td>4202031.0</td>\n",
       "      <td>UNDP (TRAC 4000) CLIMATE PROMISE (28708) - NDC...</td>\n",
       "      <td>Non-VF</td>\n",
       "      <td>1</td>\n",
       "      <td>0.0</td>\n",
       "      <td>NaN</td>\n",
       "      <td>Americas</td>\n",
       "      <td>Panama</td>\n",
       "      <td>RBLAC</td>\n",
       "    </tr>\n",
       "    <tr>\n",
       "      <th>3</th>\n",
       "      <td>133871</td>\n",
       "      <td>Beyond Recovery COVID19 Energy</td>\n",
       "      <td>473000.0</td>\n",
       "      <td>['UNITED NATIONS DEVELOPMENT PRO']</td>\n",
       "      <td>Non-VF</td>\n",
       "      <td>2</td>\n",
       "      <td>17500.0</td>\n",
       "      <td>Acceso universal, a través de la implementació...</td>\n",
       "      <td>Americas</td>\n",
       "      <td>Panama</td>\n",
       "      <td>RBLAC</td>\n",
       "    </tr>\n",
       "    <tr>\n",
       "      <th>4</th>\n",
       "      <td>6613</td>\n",
       "      <td>Africa Mini-grids Program</td>\n",
       "      <td>1363947.0</td>\n",
       "      <td>NaN</td>\n",
       "      <td>VF</td>\n",
       "      <td>3</td>\n",
       "      <td>4936.0</td>\n",
       "      <td>NaN</td>\n",
       "      <td>Africa</td>\n",
       "      <td>Zambia</td>\n",
       "      <td>RBA</td>\n",
       "    </tr>\n",
       "  </tbody>\n",
       "</table>\n",
       "</div>"
      ],
      "text/plain": [
       "  Project ID                                      Project Title     Budget  \\\n",
       "0     117913      Résilience des communautés et des écosystèmes  3459600.0   \n",
       "1     134793  Accès aux énergies renouvelables en milieu rur...  1431552.0   \n",
       "2      91204   Apoyo a la Modernización de La Gestión Ambiental  4202031.0   \n",
       "3     133871                     Beyond Recovery COVID19 Energy   473000.0   \n",
       "4       6613                          Africa Mini-grids Program  1363947.0   \n",
       "\n",
       "                                              Donors VF or Non-VF  \\\n",
       "0                 ['UNITED NATIONS DEVELOPMENT PRO']       Non-VF   \n",
       "1                 ['UNITED NATIONS DEVELOPMENT PRO']       Non-VF   \n",
       "2  UNDP (TRAC 4000) CLIMATE PROMISE (28708) - NDC...       Non-VF   \n",
       "3                 ['UNITED NATIONS DEVELOPMENT PRO']       Non-VF   \n",
       "4                                                NaN           VF   \n",
       "\n",
       "   Output Count  Direct Beneficiaries  \\\n",
       "0             3                3697.5   \n",
       "1             3               31525.0   \n",
       "2             1                   0.0   \n",
       "3             2               17500.0   \n",
       "4             3                4936.0   \n",
       "\n",
       "                                         description continent-region  \\\n",
       "0  Il s’agit de la promotion du développement Loc...           Africa   \n",
       "1  Accélération de l’accès aux énergies renouvela...           Africa   \n",
       "2                                                NaN         Americas   \n",
       "3  Acceso universal, a través de la implementació...         Americas   \n",
       "4                                                NaN           Africa   \n",
       "\n",
       "  Country Name Region  \n",
       "0         Togo    RBA  \n",
       "1         Togo    RBA  \n",
       "2       Panama  RBLAC  \n",
       "3       Panama  RBLAC  \n",
       "4       Zambia    RBA  "
      ]
     },
     "execution_count": 63,
     "metadata": {},
     "output_type": "execute_result"
    }
   ],
   "source": [
    "projects.head()"
   ]
  },
  {
   "cell_type": "code",
   "execution_count": null,
   "id": "50d2d54c-b47a-4e5d-afff-a1fcdfc21e5e",
   "metadata": {},
   "outputs": [],
   "source": []
  }
 ],
 "metadata": {
  "kernelspec": {
   "display_name": "Python 3 (ipykernel)",
   "language": "python",
   "name": "python3"
  },
  "language_info": {
   "codemirror_mode": {
    "name": "ipython",
    "version": 3
   },
   "file_extension": ".py",
   "mimetype": "text/x-python",
   "name": "python",
   "nbconvert_exporter": "python",
   "pygments_lexer": "ipython3",
   "version": "3.11.5"
  }
 },
 "nbformat": 4,
 "nbformat_minor": 5
}
